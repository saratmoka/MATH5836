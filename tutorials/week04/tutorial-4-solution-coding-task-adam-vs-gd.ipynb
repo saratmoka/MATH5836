{
 "cells": [
  {
   "cell_type": "markdown",
   "metadata": {},
   "source": [
    "# Coding Task (Solution): Adam vs GD Learning Rate Sensitivity\n",
    "**Objective:** Compare optimization paths of Adam vs GD with different learning rates on following Rosenbrock function:\n",
    "$$\n",
    "f(x, y) = (1 - x)^2 + 10 (y - x^2)^2,\n",
    "$$\n",
    "which has a unique global minimum at (1,1)."
   ]
  },
  {
   "cell_type": "code",
   "execution_count": null,
   "metadata": {},
   "outputs": [],
   "source": [
    "import numpy as np\n",
    "import matplotlib.pyplot as plt\n",
    "from matplotlib import cm\n",
    "%matplotlib inline\n",
    "\n",
    "# Rosenbrock function and gradient\n",
    "def f(x, y):\n",
    "    return (1 - x)**2 + 10*(y - x**2)**2\n",
    "\n",
    "def grad(x, y):\n",
    "    dx = -2*(1 - x) - 40*x*(y - x**2)\n",
    "    dy = 20*(y - x**2)\n",
    "    return np.array([dx, dy])"
   ]
  },
  {
   "cell_type": "markdown",
   "metadata": {},
   "source": [
    "## 2. Function Visualization"
   ]
  },
  {
   "cell_type": "code",
   "execution_count": null,
   "metadata": {},
   "outputs": [],
   "source": [
    "x = np.linspace(-2, 2, 100)\n",
    "y = np.linspace(-1, 3, 100)\n",
    "X, Y = np.meshgrid(x, y)\n",
    "Z = f(X, Y)\n",
    "\n",
    "plt.figure(figsize=(10,6))\n",
    "cs = plt.contourf(X, Y, Z, levels=50, cmap=cm.viridis)\n",
    "plt.plot(1, 1, 'r*', markersize=15, label='Global Minimum')\n",
    "plt.colorbar(cs)\n",
    "plt.title(\"Rosenbrock Function Contour Plot\")\n",
    "plt.legend()\n",
    "plt.show()"
   ]
  },
  {
   "cell_type": "markdown",
   "metadata": {},
   "source": [
    "## 3. Optimization Algorithms"
   ]
  },
  {
   "cell_type": "code",
   "execution_count": null,
   "metadata": {},
   "outputs": [],
   "source": [
    "def gd(start, lr, n_iters=100):\n",
    "    \"\"\"Vanilla Gradient Descent\"\"\"\n",
    "    path = [start]\n",
    "    p = start.copy()\n",
    "    for _ in range(n_iters):\n",
    "        g = grad(*p)\n",
    "        p -= lr * g\n",
    "        path.append(p.copy())\n",
    "    return np.array(path)\n",
    "\n",
    "def adam(start, lr, beta1=0.9, beta2=0.999, eps=1e-8, n_iters=100):\n",
    "    \"\"\"Adam Optimizer\"\"\"\n",
    "    path = [start]\n",
    "    p = start.copy()\n",
    "    v = np.zeros_like(p)\n",
    "    s = np.zeros_like(p)\n",
    "    \n",
    "    for t in range(1, n_iters+1):\n",
    "        g = grad(*p)\n",
    "        v = beta1*v + (1-beta1)*g\n",
    "        s = beta2*s + (1-beta2)*(g*g)\n",
    "        v_hat = v/(1 - beta1**t)\n",
    "        s_hat = s/(1 - beta2**t)\n",
    "        p -= lr * v_hat/(np.sqrt(s_hat) + eps)\n",
    "        path.append(p.copy())\n",
    "    return np.array(path)"
   ]
  },
  {
   "cell_type": "markdown",
   "metadata": {},
   "source": [
    "## 4. Learning Rate Comparison"
   ]
  },
  {
   "cell_type": "code",
   "execution_count": null,
   "metadata": {},
   "outputs": [],
   "source": [
    "lrs = [0.5, 0.1, 0.05, 0.01, 0.005]  # Test learning rates\n",
    "start_point = np.array([-1.5, 2.5])    # Starting point\n",
    "n_iters = 100000\n",
    "\n",
    "plt.figure(figsize=(15, 8))\n",
    "\n",
    "# Compare each learning rate\n",
    "for i, lr in enumerate(lrs):\n",
    "    # GD\n",
    "    plt.subplot(2, len(lrs), i+1)\n",
    "    path = gd(start_point, lr)\n",
    "    plt.contourf(X, Y, Z, levels=30, cmap=cm.viridis, alpha=0.6, n_iters=n_iters)\n",
    "    plt.plot(*path.T, 'r.-', linewidth=1, markersize=2)\n",
    "    plt.title(f\"GD lr={lr}\")\n",
    "    \n",
    "    # Adam\n",
    "    plt.subplot(2, len(lrs), len(lrs)+i+1)\n",
    "    path = adam(start_point, lr)\n",
    "    plt.contourf(X, Y, Z, levels=30, cmap=cm.viridis, alpha=0.6, n_iters=n_iters)\n",
    "    plt.plot(*path.T, 'b.-', linewidth=1, markersize=2)\n",
    "    plt.title(f\"Adam lr={lr}\")\n",
    "\n",
    "plt.tight_layout()\n",
    "plt.show()"
   ]
  },
  {
   "cell_type": "markdown",
   "metadata": {},
   "source": [
    "## 5. Observations\n",
    "- **GD**: Highly sensitive to learning rate\n",
    "  - Large LR (>0.1): Diverges\n",
    "  - Small LR (<0.001): Slow convergence\n",
    "- **Adam**: Robust across LRs\n",
    "  - Stable convergence even with large LR=1.0\n",
    "  - Fast convergence across different LRs\n",
    "\n",
    "### Why Adam is More Robust?\n",
    "1. **Per-parameter learning rates**: Adapts to gradient magnitudes\n",
    "2. **Momentum**: Smooths gradient updates"
   ]
  },
  {
   "cell_type": "markdown",
   "metadata": {},
   "source": [
    "## 6. Exercises\n",
    "1. Try different start positions\n",
    "2. Test with other functions (Beale, Himmelblau)\n",
    "3. Compare number of iterations to convergence\n",
    "4. Implement RMSprop and compare"
   ]
  },
  {
   "cell_type": "code",
   "execution_count": null,
   "metadata": {},
   "outputs": [],
   "source": []
  }
 ],
 "metadata": {
  "kernelspec": {
   "display_name": "Python 3 (ipykernel)",
   "language": "python",
   "name": "python3"
  },
  "language_info": {
   "codemirror_mode": {
    "name": "ipython",
    "version": 3
   },
   "file_extension": ".py",
   "mimetype": "text/x-python",
   "name": "python",
   "nbconvert_exporter": "python",
   "pygments_lexer": "ipython3",
   "version": "3.10.18"
  }
 },
 "nbformat": 4,
 "nbformat_minor": 4
}

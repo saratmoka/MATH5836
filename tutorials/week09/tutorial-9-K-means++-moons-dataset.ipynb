{
 "cells": [
  {
   "cell_type": "markdown",
   "metadata": {},
   "source": [
    "# Comparing K-means (Lloyd) vs K-means++\n",
    "**Dataset**: Synthetic \n",
    "\n",
    "K-means++ improves upon standard K-means by using a smarter initialization method that spreads out the initial cluster centers, often leading to better and more consistent clustering results.\n"
   ]
  },
  {
   "cell_type": "code",
   "execution_count": null,
   "metadata": {},
   "outputs": [],
   "source": [
    "# Imports\n",
    "import numpy as np\n",
    "import pandas as pd\n",
    "from sklearn.datasets import make_blobs # Import make_blobs\n",
    "from sklearn.cluster import KMeans\n",
    "from sklearn.preprocessing import StandardScaler\n",
    "from sklearn.metrics import silhouette_score\n",
    "import matplotlib.pyplot as plt\n",
    "import seaborn as sns\n",
    "from sklearn.decomposition import PCA\n",
    "\n",
    "# Set style\n",
    "sns.set(style=\"whitegrid\")"
   ]
  },
  {
   "cell_type": "markdown",
   "metadata": {},
   "source": [
    "## 1 Generate Synthetic Dataset and Data Preprocessing\n",
    "\n",
    "- Create a synthetic dataset using make_blobs from sklearn\n",
    "- Standardize features\n",
    "- Reduce to 2D with PCA for visualization"
   ]
  },
  {
   "cell_type": "code",
   "execution_count": null,
   "metadata": {},
   "outputs": [],
   "source": [
    "# Create a synthetic dataset with make_blobs\n",
    "n_samples = 500\n",
    "n_features = 2 \n",
    "n_clusters = 3\n",
    "X, y_true = make_blobs(n_samples=n_samples, n_features=n_features, centers=n_clusters,\n",
    "                       cluster_std=[1.5, 0.5, 2.0], # Varying stds to make some clusters wider/overlapping\n",
    "                       random_state=42) # For reproducibility of the dataset\n",
    "\n",
    "# Create a DataFrame for convenience (optional, but good for pairplot/hue)\n",
    "if n_features == 2:\n",
    "    df = pd.DataFrame(X, columns=['Feature 1', 'Feature 2'])\n",
    "else: # If more than 2 features, just use generic names for plotting\n",
    "    df = pd.DataFrame(X, columns=[f'Feature {i+1}' for i in range(n_features)])\n",
    "\n",
    "df['True Label'] = y_true # Store true labels in the DataFrame\n",
    "\n",
    "# Standardize\n",
    "scaler = StandardScaler()\n",
    "X_scaled = scaler.fit_transform(X)\n",
    "\n",
    "# PCA for visualization \n",
    "pca = PCA(n_components=2)\n",
    "X_pca = pca.fit_transform(X_scaled)\n",
    "\n",
    "# Plot true labels\n",
    "plt.figure(figsize=(8, 6))\n",
    "# Using 'True Label' column for hue\n",
    "sns.scatterplot(x=X_pca[:, 0], y=X_pca[:, 1], hue=df['True Label'], palette='tab10', legend='full', s=50, alpha=0.7)\n",
    "plt.title('True Clusters (PCA Reduced)')\n",
    "plt.xlabel('PCA Component 1')\n",
    "plt.ylabel('PCA Component 2')\n",
    "plt.grid(True, linestyle='--', alpha=0.7)\n",
    "plt.show()"
   ]
  },
  {
   "cell_type": "markdown",
   "metadata": {},
   "source": [
    "## 2 Model Definitions\n",
    "\n",
    "- Initialize K-means (Lloyd) with random initialization\n",
    "- Initialize K-means++ (default in sklearn)"
   ]
  },
  {
   "cell_type": "code",
   "execution_count": null,
   "metadata": {},
   "outputs": [],
   "source": [
    "# K-means with random initialization (Lloyd's algorithm)\n",
    "kmeans_random = KMeans(n_clusters=3, init='random', n_init=1, random_state=1234)\n",
    "\n",
    "# K-means++ (smart initialization)\n",
    "kmeans_plus = KMeans(n_clusters=3, init='k-means++', n_init=1, random_state=1234)"
   ]
  },
  {
   "cell_type": "markdown",
   "metadata": {},
   "source": [
    "## 3 Train & Evaluate Once\n",
    "\n",
    "- Fit both models\n",
    "- Visualize clusters\n",
    "- Compute silhouette scores\n",
    "\n",
    "**Silhouette Score**: A clustering evaluation metric that measures both *Cohesion* (how close points are to their own cluster) and *Separation* (how distinct clusters are from each other).\n",
    "  \n",
    "**Range of Silhouette Score**: $[-1, 1]$ where $+1$ is ideal clustering, $0$ is Overlapping clusters, and $-1$ is incorrect clustering.\n",
    "\n",
    "**Formula**: Silhouette score of $i$-th point is\n",
    "  $$\n",
    "  s(i) = \\frac{b(i) - a(i)}{\\max\\{a(i), b(i)\\}},\n",
    "  $$\n",
    "  where $a(i)$ is the average intra-cluster distance and $b(i)$ is the average nearest-cluster distance.\n",
    "\n",
    "  The **mean Silhouette score** is the average of all pointwise scores:\n",
    "  $$\n",
    "   S = \\frac{1}{n}\\sum_{i=1}^{n} s(i),\n",
    "  $$\n",
    "   where $n$ is the total number of points in the dataset."
   ]
  },
  {
   "cell_type": "code",
   "execution_count": null,
   "metadata": {},
   "outputs": [],
   "source": [
    "# Fit models\n",
    "kmeans_random.fit(X_scaled)\n",
    "kmeans_plus.fit(X_scaled)\n",
    "\n",
    "# Get cluster assignments\n",
    "random_labels = kmeans_random.labels_\n",
    "plus_labels = kmeans_plus.labels_\n",
    "\n",
    "# Silhouette scores\n",
    "random_score = silhouette_score(X_scaled, random_labels)\n",
    "plus_score = silhouette_score(X_scaled, plus_labels)\n",
    "\n",
    "# Plot results\n",
    "fig, (ax1, ax2) = plt.subplots(1, 2, figsize=(16, 6))\n",
    "\n",
    "# Random initialization\n",
    "sns.scatterplot(x=X_pca[:, 0], y=X_pca[:, 1], hue=random_labels, palette='tab10', ax=ax1)\n",
    "ax1.set_title(f'K-means (Random Init)\\nSilhouette Score: {random_score:.3f}')\n",
    "ax1.set_xlabel('PCA Component 1')\n",
    "ax1.set_ylabel('PCA Component 2')\n",
    "\n",
    "# K-means++\n",
    "sns.scatterplot(x=X_pca[:, 0], y=X_pca[:, 1], hue=plus_labels, palette='tab10', ax=ax2)\n",
    "ax2.set_title(f'K-means++\\nSilhouette Score: {plus_score:.3f}')\n",
    "ax2.set_xlabel('PCA Component 1')\n",
    "\n",
    "plt.show()"
   ]
  },
  {
   "cell_type": "markdown",
   "metadata": {},
   "source": [
    "## 6 Mean Performance Over 50 Experiments\n",
    "\n",
    "- Compare both methods across multiple runs\n",
    "- Track silhouette scores and inertia"
   ]
  },
  {
   "cell_type": "code",
   "execution_count": null,
   "metadata": {},
   "outputs": [],
   "source": [
    "random_scores = []\n",
    "plus_scores = []\n",
    "random_inertia = []\n",
    "plus_inertia = []\n",
    "\n",
    "num_runs = 50\n",
    "\n",
    "for seed in range(num_runs):\n",
    "    # Random init\n",
    "    km_random = KMeans(n_clusters=3, init='random', n_init=1, random_state=seed, max_iter=300)\n",
    "    km_random.fit(X_scaled)\n",
    "    random_scores.append(silhouette_score(X_scaled, km_random.labels_))\n",
    "    random_inertia.append(km_random.inertia_)\n",
    "    \n",
    "    # K-means++\n",
    "    km_plus = KMeans(n_clusters=3, init='k-means++', n_init=1, random_state=seed, max_iter=300)\n",
    "    km_plus.fit(X_scaled)\n",
    "    plus_scores.append(silhouette_score(X_scaled, km_plus.labels_))\n",
    "    plus_inertia.append(km_plus.inertia_)\n",
    "\n",
    "# Create results DataFrame\n",
    "results = pd.DataFrame({\n",
    "    'Method': ['Random']*num_runs + ['K-means++']*num_runs,\n",
    "    'Silhouette': random_scores + plus_scores,\n",
    "    'Inertia': random_inertia + plus_inertia\n",
    "})\n",
    "\n",
    "print(\"\\nMean Performance over 10 runs:\")\n",
    "print(f\"Random Init - Mean Silhouette: {np.mean(random_scores):.3f}, Mean Inertia: {np.mean(random_inertia):.1f}\")\n",
    "print(f\"K-means++   - Mean Silhouette: {np.mean(plus_scores):.3f}, Mean Inertia: {np.mean(plus_inertia):.1f}\")\n",
    "\n",
    "# Plot comparison\n",
    "plt.figure(figsize=(12, 5))\n",
    "\n",
    "plt.subplot(1, 2, 1)\n",
    "sns.boxplot(x='Method', y='Silhouette', data=results)\n",
    "plt.title('Silhouette Scores Comparison')\n",
    "\n",
    "plt.subplot(1, 2, 2)\n",
    "sns.boxplot(x='Method', y='Inertia', data=results)\n",
    "plt.title('Inertia Comparison')\n",
    "\n",
    "plt.tight_layout()\n",
    "plt.show()"
   ]
  },
  {
   "cell_type": "markdown",
   "metadata": {},
   "source": [
    "## Key Findings\n",
    "\n",
    "1. **Initialization Matters**: K-means++ consistently finds better starting points than random initialization\n",
    "2. **Better Scores**: Higher silhouette scores indicate more well-defined clusters with k-means++\n",
    "3. **Lower Inertia**: K-means++ typically achieves lower within-cluster variance\n",
    "4. **More Consistent**: K-means++ shows less variability across different random seeds"
   ]
  },
  {
   "cell_type": "code",
   "execution_count": null,
   "metadata": {},
   "outputs": [],
   "source": []
  }
 ],
 "metadata": {
  "kernelspec": {
   "display_name": "Python 3 (ipykernel)",
   "language": "python",
   "name": "python3"
  },
  "language_info": {
   "codemirror_mode": {
    "name": "ipython",
    "version": 3
   },
   "file_extension": ".py",
   "mimetype": "text/x-python",
   "name": "python",
   "nbconvert_exporter": "python",
   "pygments_lexer": "ipython3",
   "version": "3.10.18"
  }
 },
 "nbformat": 4,
 "nbformat_minor": 4
}

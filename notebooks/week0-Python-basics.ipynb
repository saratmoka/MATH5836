{
 "cells": [
  {
   "cell_type": "markdown",
   "id": "2b927e6a-7e0c-4360-851c-87fecbded4d1",
   "metadata": {},
   "source": [
    "# Python for Data Science & Machine Learning - A Beginner's Guide\n",
    "This notebook provides a foundational introduction to Python and its key libraries for data science and machine learning. We'll cover basic Python syntax, data structures, and then dive into NumPy for numerical computation, SciPy for scientific computing, and scikit-learn for machine learning algorithms."
   ]
  },
  {
   "cell_type": "markdown",
   "id": "4e88c844-82a5-44ba-9924-ad3c6bba5b8f",
   "metadata": {},
   "source": [
    "## Section 1: Python Basics"
   ]
  },
  {
   "cell_type": "markdown",
   "id": "a5bbf130-071e-479b-b26b-e1479996a3bf",
   "metadata": {},
   "source": [
    "**Variables and Data Types**"
   ]
  },
  {
   "cell_type": "code",
   "execution_count": null,
   "id": "b7bbf28c-53da-4191-a6d9-3018dd12f39d",
   "metadata": {},
   "outputs": [],
   "source": [
    "x = 5  # Integer\n",
    "y = 3.14  # Float\n",
    "name = \"Alice\"  # String\n",
    "is_valid = True  # Boolean\n",
    "\n",
    "print(x)\n",
    "print(y)\n",
    "print(name)\n",
    "print(is_valid)"
   ]
  },
  {
   "cell_type": "markdown",
   "id": "404e4fc8-6794-49ca-842f-bde8a278d11e",
   "metadata": {},
   "source": [
    "**Check data types**"
   ]
  },
  {
   "cell_type": "code",
   "execution_count": null,
   "id": "1b1eaf17-fd6b-43bb-8770-44d25fa5a392",
   "metadata": {},
   "outputs": [],
   "source": [
    "print(type(x))\n",
    "print(type(y))\n",
    "print(type(name))\n",
    "print(type(is_valid))"
   ]
  },
  {
   "cell_type": "markdown",
   "id": "f2547f90-43a4-4805-883e-b7e42264ec3a",
   "metadata": {},
   "source": [
    "**Operators**"
   ]
  },
  {
   "cell_type": "code",
   "execution_count": null,
   "id": "fbf90d6d-f00b-4969-be41-1488f85f185e",
   "metadata": {},
   "outputs": [],
   "source": [
    "a = 10\n",
    "b = 3\n",
    "\n",
    "print(a + b)  # Addition\n",
    "print(a - b)  # Subtraction\n",
    "print(a * b)  # Multiplication\n",
    "print(a / b)  # Division\n",
    "print(a // b) # Floor Division\n",
    "print(a % b)  # Modulus (remainder)\n",
    "print(a ** b) # Exponentiation"
   ]
  },
  {
   "cell_type": "markdown",
   "id": "6f1adbad-5e79-4d97-8c00-15873aa80e63",
   "metadata": {},
   "source": [
    "**Control Flow (if, elif, else)**"
   ]
  },
  {
   "cell_type": "code",
   "execution_count": null,
   "id": "09ed17f4-4580-438e-8c0e-e1c01f59df7d",
   "metadata": {},
   "outputs": [],
   "source": [
    "age = 20\n",
    "if age >= 18:\n",
    "    print(\"You are an adult.\")\n",
    "else:\n",
    "    print(\"You are a minor.\")\n",
    "\n",
    "# 1.4 Loops (for, while)\n",
    "# For loop\n",
    "for i in range(5):  # range(5) generates numbers 0, 1, 2, 3, 4\n",
    "    print(i)\n",
    "\n",
    "# While loop\n",
    "count = 0\n",
    "while count < 3:\n",
    "    print(count)\n",
    "    count += 1\n"
   ]
  },
  {
   "cell_type": "markdown",
   "id": "424c8d68-cb0e-4dde-a21e-10490acd4bd9",
   "metadata": {},
   "source": [
    "**Data Structures**\n",
    "\n",
    "*List*"
   ]
  },
  {
   "cell_type": "code",
   "execution_count": null,
   "id": "5f2ace56-84d3-4160-bb38-04f9f3cb884f",
   "metadata": {},
   "outputs": [],
   "source": [
    "my_list = [1, 2, 3, \"apple\", \"banana\"]\n",
    "print(my_list[0])  # Accessing elements (indexing starts at 0)\n",
    "my_list.append(\"orange\")  # Adding an element\n",
    "print(my_list)"
   ]
  },
  {
   "cell_type": "markdown",
   "id": "769cf8d8-aaee-4152-a951-d9a7a06d4420",
   "metadata": {},
   "source": [
    "*Tuples (immutable)*"
   ]
  },
  {
   "cell_type": "code",
   "execution_count": null,
   "id": "b1cf98ee-8d36-4670-9208-4db6d617d985",
   "metadata": {},
   "outputs": [],
   "source": [
    "my_tuple = (1, 2, 3)\n",
    "print(my_tuple[1])"
   ]
  },
  {
   "cell_type": "markdown",
   "id": "d363694f-1901-4611-a66e-093892877b51",
   "metadata": {},
   "source": [
    "*Dictionaries (key-value pairs)*"
   ]
  },
  {
   "cell_type": "code",
   "execution_count": null,
   "id": "fc73314f-6272-4d74-970a-67bf2b56b749",
   "metadata": {},
   "outputs": [],
   "source": [
    "my_dict = {\"name\": \"Bob\", \"age\": 30}\n",
    "print(my_dict[\"name\"])\n",
    "my_dict[\"city\"] = \"New York\"\n",
    "print(my_dict)"
   ]
  },
  {
   "cell_type": "markdown",
   "id": "65625a87-d905-4299-84fc-e86879f8d5b7",
   "metadata": {},
   "source": [
    "*Sets (unordered collection of unique elements)*"
   ]
  },
  {
   "cell_type": "code",
   "execution_count": null,
   "id": "1e82f563-916b-4d0d-aeed-8e56c2a3291c",
   "metadata": {},
   "outputs": [],
   "source": [
    "my_set = {1, 2, 2, 3}  # Duplicate 2 is automatically removed\n",
    "print(my_set)"
   ]
  },
  {
   "cell_type": "markdown",
   "id": "2c3ec8af-d249-4eaa-b85d-43824d88ccac",
   "metadata": {},
   "source": [
    "## Section 2: NumPy - Numerical Python"
   ]
  },
  {
   "cell_type": "markdown",
   "id": "1d15eb35-fe21-4cc6-88d9-05a1fbe04b46",
   "metadata": {},
   "source": [
    "**Importing NumPy**"
   ]
  },
  {
   "cell_type": "code",
   "execution_count": null,
   "id": "baf4732c-c13e-48f1-83ad-200663c0ef1b",
   "metadata": {},
   "outputs": [],
   "source": [
    "import numpy as np"
   ]
  },
  {
   "cell_type": "markdown",
   "id": "e8c35c43-7aa4-4f3b-8f87-fe0f5c467902",
   "metadata": {},
   "source": [
    "**Creating NumPy Arrays**"
   ]
  },
  {
   "cell_type": "code",
   "execution_count": null,
   "id": "478efae0-8919-4530-9b36-15d9adacd6c0",
   "metadata": {},
   "outputs": [],
   "source": [
    "my_array = np.array([1, 2, 3, 4, 5])\n",
    "print(my_array)\n",
    "print(type(my_array))"
   ]
  },
  {
   "cell_type": "markdown",
   "id": "0e2a30d6-3cca-48ac-b5b4-d4bfebef937f",
   "metadata": {},
   "source": [
    "**Multi-dimensional arrays**"
   ]
  },
  {
   "cell_type": "code",
   "execution_count": null,
   "id": "83faa9fb-e5a9-47c2-a4d0-3face61b904b",
   "metadata": {},
   "outputs": [],
   "source": [
    "matrix = np.array([[1, 2, 3], [4, 5, 6], [7, 8, 9]])\n",
    "print(matrix)"
   ]
  },
  {
   "cell_type": "markdown",
   "id": "29a7fdaa-51df-49f8-a143-3bc4fd58b428",
   "metadata": {},
   "source": [
    "**Creating arrays with specific values**"
   ]
  },
  {
   "cell_type": "code",
   "execution_count": null,
   "id": "429053e8-57b1-4189-aa4c-8d6a71ef790a",
   "metadata": {},
   "outputs": [],
   "source": [
    "zeros_array = np.zeros((2, 3))  # 2x3 array filled with zeros\n",
    "ones_array = np.ones((3, 2))   # 3x2 array filled with ones\n",
    "range_array = np.arange(0, 10, 2) # Array from 0 to 10 (exclusive) with step 2\n",
    "print(zeros_array)\n",
    "print(ones_array)\n",
    "print(range_array)"
   ]
  },
  {
   "cell_type": "markdown",
   "id": "834b4474-243f-49a9-9236-7419644be37f",
   "metadata": {},
   "source": [
    "**Array Operations**"
   ]
  },
  {
   "cell_type": "code",
   "execution_count": null,
   "id": "d1085e57-1e7f-464c-905f-ac767270a7b3",
   "metadata": {},
   "outputs": [],
   "source": [
    "a = np.array([1, 2, 3])\n",
    "b = np.array([4, 5, 6])\n",
    "\n",
    "print(a + b)  # Element-wise addition\n",
    "print(a * b)  # Element-wise multiplication\n",
    "print(a.dot(b)) # Dot product"
   ]
  },
  {
   "cell_type": "markdown",
   "id": "0ff23979-ec41-46eb-a28e-140b4ba28aca",
   "metadata": {},
   "source": [
    "**Array Indexing and Slicing**"
   ]
  },
  {
   "cell_type": "code",
   "execution_count": null,
   "id": "d1634698-5d78-4e8b-93fb-c144ad1f52c4",
   "metadata": {},
   "outputs": [],
   "source": [
    "print(my_array[0])  # Accessing the first element\n",
    "print(my_array[1:4])  # Slicing (elements from index 1 to 3)"
   ]
  },
  {
   "cell_type": "markdown",
   "id": "8e4059cd-b922-4328-883d-b25d225fcf8e",
   "metadata": {},
   "source": [
    "**Array Reshaping**"
   ]
  },
  {
   "cell_type": "code",
   "execution_count": null,
   "id": "9b0d1375-6945-4144-aa77-6d4dd00b018e",
   "metadata": {},
   "outputs": [],
   "source": [
    "reshaped_array = my_array.reshape((5, 1)) # Reshape to a 5x1 column vector\n",
    "print(reshaped_array)"
   ]
  },
  {
   "cell_type": "markdown",
   "id": "c8e0c91a-5f1a-4338-8db8-5c7c92737c63",
   "metadata": {},
   "source": [
    "## Section 3: SciPy - Scientific Computing"
   ]
  },
  {
   "cell_type": "markdown",
   "id": "ae97e1bb-52a7-4369-8e84-6f65269faedd",
   "metadata": {},
   "source": [
    "**Importing SciPy**"
   ]
  },
  {
   "cell_type": "code",
   "execution_count": null,
   "id": "ff3e1723-1012-48d6-9ef8-da785f1be73d",
   "metadata": {},
   "outputs": [],
   "source": [
    "import scipy as sp\n",
    "from scipy import optimize"
   ]
  },
  {
   "cell_type": "markdown",
   "id": "53f366b5-4576-4fe1-b923-718657d188f5",
   "metadata": {},
   "source": [
    "**Optimization**"
   ]
  },
  {
   "cell_type": "code",
   "execution_count": null,
   "id": "b563b9b9-bccd-44c6-b09f-6760def0719d",
   "metadata": {},
   "outputs": [],
   "source": [
    "# Example: Finding the minimum of a function\n",
    "def f(x):\n",
    "    return x**2 + 5*np.sin(x)\n",
    "\n",
    "result = optimize.minimize(f, x0=0) # x0 is the initial guess\n",
    "print(result)\n"
   ]
  },
  {
   "cell_type": "markdown",
   "id": "b7a92d73-9d0f-4d09-be1c-31fa8bdf45bb",
   "metadata": {},
   "source": [
    "**Statistics**"
   ]
  },
  {
   "cell_type": "code",
   "execution_count": null,
   "id": "50cefde1-ca71-4f96-ae6e-4c906bb02440",
   "metadata": {},
   "outputs": [],
   "source": [
    "from scipy import stats\n",
    "\n",
    "data = np.random.normal(loc=0, scale=1, size=1000) # Generate 1000 random numbers from a normal distribution\n",
    "mean = stats.tmean(data)\n",
    "std_dev = stats.tstd(data)\n",
    "print(f\"Mean: {mean}\")\n",
    "print(f\"Standard Deviation: {std_dev}\")"
   ]
  },
  {
   "cell_type": "markdown",
   "id": "8e2c0c2a-52d2-4c5d-adfc-60d4f57fb28b",
   "metadata": {},
   "source": [
    "**Integration**"
   ]
  },
  {
   "cell_type": "code",
   "execution_count": null,
   "id": "0d9d2ea1-820e-4b59-b231-b8357dd343f4",
   "metadata": {},
   "outputs": [],
   "source": [
    "from scipy.integrate import quad\n",
    "\n",
    "# Integrate x^2 from 0 to 1\n",
    "result, error = quad(lambda x: x**2, 0, 1)\n",
    "print(f\"Integral: {result}\")\n",
    "print(f\"Error: {error}\")"
   ]
  },
  {
   "cell_type": "markdown",
   "id": "8e34492a-9301-4647-ad1b-3d98cea36bc2",
   "metadata": {},
   "source": [
    "## Section 4: scikit-learn - Machine Learning\n",
    "\n",
    "<span style=\"color:red\">Note:</span> We will learn linear regression in more details in the class. It is okay if you do not understand the following code completely."
   ]
  },
  {
   "cell_type": "markdown",
   "id": "ce96faff-0c0d-4768-8bb5-80f9f7947263",
   "metadata": {},
   "source": [
    "**Importing scikit-learn**"
   ]
  },
  {
   "cell_type": "code",
   "execution_count": null,
   "id": "c88b9443-544d-4cfe-a2f4-6d07e512d69e",
   "metadata": {},
   "outputs": [],
   "source": [
    "from sklearn.model_selection import train_test_split\n",
    "from sklearn.linear_model import LinearRegression\n",
    "from sklearn.metrics import mean_squared_error"
   ]
  },
  {
   "cell_type": "markdown",
   "id": "29a6b85b-3bab-4dcd-bb41-586133f7b95f",
   "metadata": {},
   "source": [
    "**Data Preparation (Example)**"
   ]
  },
  {
   "cell_type": "code",
   "execution_count": null,
   "id": "02ce83db-56c6-4f3f-a3d0-253e503b847d",
   "metadata": {},
   "outputs": [],
   "source": [
    "# Generate some sample data\n",
    "X = np.array([[1], [2], [3], [4], [5]])  # Feature\n",
    "y = np.array([2, 4, 5, 4, 5])  # Target\n",
    "\n",
    "# Split the data into training and testing sets\n",
    "X_train, X_test, y_train, y_test = train_test_split(X, y, test_size=0.2, random_state=42)\n"
   ]
  },
  {
   "cell_type": "markdown",
   "id": "f288189d-7b30-44b5-91cd-bd96b6aadbaa",
   "metadata": {},
   "source": [
    "**Model Training**"
   ]
  },
  {
   "cell_type": "code",
   "execution_count": null,
   "id": "d7041f60-c423-48e3-a2b3-ca7fbfc2fe30",
   "metadata": {},
   "outputs": [],
   "source": [
    "model = LinearRegression()\n",
    "model.fit(X_train, y_train)"
   ]
  },
  {
   "cell_type": "markdown",
   "id": "499a359c-9808-4f33-a954-b861d13f89de",
   "metadata": {},
   "source": [
    "**Making Predictions**"
   ]
  },
  {
   "cell_type": "code",
   "execution_count": null,
   "id": "a19362f0-b306-4f6f-a5c3-18060e6a6911",
   "metadata": {},
   "outputs": [],
   "source": [
    "y_pred = model.predict(X_test)\n",
    "print(f\"Predictions: {y_pred}\")"
   ]
  },
  {
   "cell_type": "markdown",
   "id": "88d819a0-7080-4643-8490-f0b78b9c6eed",
   "metadata": {},
   "source": [
    "**Evaluating the Model**"
   ]
  },
  {
   "cell_type": "code",
   "execution_count": null,
   "id": "6b7073fe-ec9d-4c82-82f7-340d4346849a",
   "metadata": {},
   "outputs": [],
   "source": [
    "mse = mean_squared_error(y_test, y_pred)\n",
    "print(f\"Mean Squared Error: {mse}\")"
   ]
  },
  {
   "cell_type": "markdown",
   "id": "1524ac1f-0ac3-4f0a-a71c-d3540d00fcf7",
   "metadata": {},
   "source": [
    "## Section 5: Data Manipulation with Pandas"
   ]
  },
  {
   "cell_type": "markdown",
   "id": "20783acf-4a88-41eb-87d5-e4a4e9c87b06",
   "metadata": {},
   "source": [
    "**Import pandas**"
   ]
  },
  {
   "cell_type": "code",
   "execution_count": null,
   "id": "e5a27f73-2ebe-4bc3-a2ec-4fc2ba714d6d",
   "metadata": {},
   "outputs": [],
   "source": [
    "import pandas as pd"
   ]
  },
  {
   "cell_type": "markdown",
   "id": "14bedf8f-c271-4093-9dc6-1e9e9fd6fb73",
   "metadata": {},
   "source": [
    "**Creating a DataFrame**"
   ]
  },
  {
   "cell_type": "code",
   "execution_count": null,
   "id": "1484e92a-59be-49fa-a55d-73b1cdf4a907",
   "metadata": {},
   "outputs": [],
   "source": [
    "data = {'Name': ['Alice', 'Bob', 'Charlie'],\n",
    "        'Age': [25, 30, 28],\n",
    "        'City': ['New York', 'London', 'Paris']}\n",
    "df = pd.DataFrame(data)\n",
    "print(df)"
   ]
  },
  {
   "cell_type": "markdown",
   "id": "ee49fa32-ccbf-4b88-82a8-f92b4a30c77f",
   "metadata": {},
   "source": [
    "**Reading Data from a CSV file**"
   ]
  },
  {
   "cell_type": "code",
   "execution_count": null,
   "id": "e46a6604-6975-41c4-8751-0c664a235da7",
   "metadata": {},
   "outputs": [],
   "source": [
    "df = pd.read_csv('../datasets/iris.csv', header=None)"
   ]
  },
  {
   "cell_type": "markdown",
   "id": "f02b44d1-6d6b-419e-9bf4-9aa21578c3e8",
   "metadata": {},
   "source": [
    "**Data Exploration**"
   ]
  },
  {
   "cell_type": "code",
   "execution_count": null,
   "id": "b122f45f-c941-4afb-9d21-62b5e02f139b",
   "metadata": {},
   "outputs": [],
   "source": [
    "print(df.head())  # First 5 rows\n",
    "print(df.tail())  # Last 5 rows\n",
    "print(df.info())  # Data types and missing values\n",
    "print(df.describe()) # Summary statistics"
   ]
  },
  {
   "cell_type": "markdown",
   "id": "1a0e3416-7f20-43b1-a79a-8ba27aafdc6a",
   "metadata": {},
   "source": [
    "**Data Selection**"
   ]
  },
  {
   "cell_type": "code",
   "execution_count": null,
   "id": "fcd36e01-a521-4c94-8bc7-bb943765e0a8",
   "metadata": {},
   "outputs": [],
   "source": [
    "print(df.loc[0])  # Select the first row"
   ]
  },
  {
   "cell_type": "markdown",
   "id": "bc53f0c2-3f7c-4b56-b443-424cad653bd2",
   "metadata": {},
   "source": [
    "Add column names"
   ]
  },
  {
   "cell_type": "code",
   "execution_count": null,
   "id": "0e94af14-025c-41df-8616-75f3bc4752aa",
   "metadata": {},
   "outputs": [],
   "source": [
    "df.columns = [\n",
    "    'sepal_length',   # cm\n",
    "    'sepal_width',    # cm\n",
    "    'petal_length',   # cm\n",
    "    'petal_width',    # cm\n",
    "    'setosa',         # 1 if I. setosa, else 0\n",
    "    'versicolor',     # 1 if I. versicolor, else 0\n",
    "    'virginica'       # 1 if I. virginica, else 0\n",
    "]\n",
    "print(df.head())"
   ]
  },
  {
   "cell_type": "markdown",
   "id": "fe5f3d72-94cc-4ccc-9351-2125c8aa2704",
   "metadata": {},
   "source": [
    "**Data Cleaning (Handling Missing Values)**"
   ]
  },
  {
   "cell_type": "code",
   "execution_count": null,
   "id": "82429f0f-335a-4a5a-a26a-e0693bab2b2e",
   "metadata": {},
   "outputs": [],
   "source": [
    "# df.dropna() # Remove rows with missing values\n",
    "# df.fillna(0) # Fill missing values with 0"
   ]
  }
 ],
 "metadata": {
  "kernelspec": {
   "display_name": "Python 3 (ipykernel)",
   "language": "python",
   "name": "python3"
  },
  "language_info": {
   "codemirror_mode": {
    "name": "ipython",
    "version": 3
   },
   "file_extension": ".py",
   "mimetype": "text/x-python",
   "name": "python",
   "nbconvert_exporter": "python",
   "pygments_lexer": "ipython3",
   "version": "3.11.12"
  }
 },
 "nbformat": 4,
 "nbformat_minor": 5
}

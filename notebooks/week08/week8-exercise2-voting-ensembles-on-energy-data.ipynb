{
 "cells": [
  {
   "cell_type": "markdown",
   "metadata": {},
   "source": [
    "# Exercise 8.2: Voting Ensembles on Energy Efficiency (Regression)\n",
    "\n",
    "**Objective:** Compare individual regression models vs. a VotingRegressor ensemble on the Energy Efficiency dataset (heating load prediction).\n",
    "\n",
    "## Experiment Setup\n",
    "- **Dataset:** ENB2012 Energy Efficiency (8 features, 2 targets)  \n",
    "- **Target:** Heating load (Y1)  \n",
    "- **Test Size:** 30% holdout  \n",
    "- **Metrics:** RMSE & MAE  \n",
    "- **Individual Models:**\n",
    "  1. Linear Regression  \n",
    "  2. Ridge Regression  \n",
    "  3. Lasso Regression  \n",
    "  4. Support Vector Regressor (SVR)  \n",
    "  5. 1-layer Neural Network (MLPRegressor)  \n",
    "- **Ensemble:** VotingRegressor (simple and weighted)\n"
   ]
  },
  {
   "cell_type": "markdown",
   "metadata": {},
   "source": [
    "## 1️⃣ Imports"
   ]
  },
  {
   "cell_type": "code",
   "execution_count": null,
   "metadata": {},
   "outputs": [],
   "source": [
    "import numpy as np\n",
    "import pandas as pd\n",
    "import matplotlib.pyplot as plt\n",
    "%matplotlib inline\n",
    "\n",
    "from sklearn.model_selection import train_test_split\n",
    "from sklearn.preprocessing import StandardScaler\n",
    "from sklearn.linear_model import LinearRegression, Ridge, Lasso\n",
    "from sklearn.svm import SVR\n",
    "from sklearn.neural_network import MLPRegressor\n",
    "from sklearn.ensemble import VotingRegressor\n",
    "from sklearn.metrics import mean_squared_error, mean_absolute_error\n"
   ]
  },
  {
   "cell_type": "markdown",
   "metadata": {},
   "source": [
    "## 2️⃣ Data Loading & Preprocessing\n",
    "\n",
    "Load the ENB2012_data.csv (must be in `datasets/ENB2012_data.csv`).\n",
    "- Use the first 8 columns as features, column 9 (Y1) as target.\n",
    "- Split 70% train / 30% test and standardize features."
   ]
  },
  {
   "cell_type": "code",
   "execution_count": null,
   "metadata": {},
   "outputs": [],
   "source": [
    "def load_data(test_size=0.3, random_state=42):\n",
    "    df = pd.read_csv('../../datasets/ENB2012_data.csv')\n",
    "    X = df.iloc[:, 0:8].values\n",
    "    y = df.iloc[:, 8].values   # Y1: Heating Load\n",
    "    X_tr, X_te, y_tr, y_te = train_test_split(\n",
    "        X, y, test_size=test_size, random_state=random_state)\n",
    "    scaler = StandardScaler().fit(X_tr)\n",
    "    return scaler.transform(X_tr), scaler.transform(X_te), y_tr, y_te\n",
    "\n",
    "X_train, X_test, y_train, y_test = load_data()\n",
    "print(f\"Train: {X_train.shape}, Test: {X_test.shape}\")"
   ]
  },
  {
   "cell_type": "markdown",
   "metadata": {},
   "source": [
    "## 3️⃣ Individual Models\n",
    "Train and evaluate five regressors and record RMSE & MAE."
   ]
  },
  {
   "cell_type": "code",
   "execution_count": null,
   "metadata": {},
   "outputs": [],
   "source": [
    "models = {\n",
    "    'Linear': LinearRegression(),\n",
    "    'Ridge': Ridge(alpha=1.0),\n",
    "    'Lasso': Lasso(alpha=0.1),\n",
    "    'SVR': SVR(kernel='rbf', C=1.0, epsilon=0.1),\n",
    "    'MLP': MLPRegressor(\n",
    "        hidden_layer_sizes=(50,), solver='adam',\n",
    "        learning_rate_init=0.01, max_iter=1000,\n",
    "        random_state=42)\n",
    "}\n",
    "\n",
    "results = []\n",
    "for name, model in models.items():\n",
    "    model.fit(X_train, y_train)\n",
    "    y_pred = model.predict(X_test)\n",
    "    rmse = np.sqrt(mean_squared_error(y_test, y_pred))\n",
    "    mae  = mean_absolute_error(y_test, y_pred)\n",
    "    results.append((name, rmse, mae))\n",
    "\n",
    "df_indiv = pd.DataFrame(results, columns=['Model','RMSE','MAE'])\n",
    "print(df_indiv)"
   ]
  },
  {
   "cell_type": "markdown",
   "metadata": {},
   "source": [
    "## 4️⃣ Voting Regressor (Simple Ensemble)\n",
    "Combine the five models with equal weights."
   ]
  },
  {
   "cell_type": "code",
   "execution_count": null,
   "metadata": {},
   "outputs": [],
   "source": [
    "estimators = [(name, m) for name, m in models.items()]\n",
    "voting_simple = VotingRegressor(estimators=estimators)\n",
    "voting_simple.fit(X_train, y_train)\n",
    "y_vs = voting_simple.predict(X_test)\n",
    "rmse_vs = np.sqrt(mean_squared_error(y_test, y_vs))\n",
    "mae_vs  = mean_absolute_error(y_test, y_vs)\n",
    "print(f\"Voting (simple) | RMSE: {rmse_vs:.3f}, MAE: {mae_vs:.3f}\")"
   ]
  },
  {
   "cell_type": "markdown",
   "metadata": {},
   "source": [
    "## 5️⃣ Voting Regressor (Weighted Ensemble)\n",
    "Assign higher weight to models that performed better (e.g., MLP & Ridge)."
   ]
  },
  {
   "cell_type": "code",
   "execution_count": null,
   "metadata": {},
   "outputs": [],
   "source": [
    "# Example weights: Linear=1, Ridge=2, Lasso=1, SVR=1, MLP=2\n",
    "weights = [1, 2, 1, 1, 2]\n",
    "voting_weighted = VotingRegressor(\n",
    "    estimators=estimators,\n",
    "    weights=weights\n",
    ")\n",
    "voting_weighted.fit(X_train, y_train)\n",
    "y_vw = voting_weighted.predict(X_test)\n",
    "rmse_vw = np.sqrt(mean_squared_error(y_test, y_vw))\n",
    "mae_vw  = mean_absolute_error(y_test, y_vw)\n",
    "print(f\"Voting (weighted) | RMSE: {rmse_vw:.3f}, MAE: {mae_vw:.3f}\")"
   ]
  },
  {
   "cell_type": "markdown",
   "metadata": {},
   "source": [
    "## 6️⃣  Challenges\n",
    "1. **Optimize weights**: use a small grid search over `weights` in `VotingRegressor` to minimize validation RMSE.  \n",
    "2. **Add another regressor** (e.g. `DecisionTreeRegressor`, `KNeighborsRegressor`) and compare.  \n",
    "3. **StackingRegressor**: replace the VotingRegressor with a `StackingRegressor` using Ridge as the final estimator.  \n",
    "4. **Learn curve**: plot training vs. test RMSE as you vary `max_iter` in the MLPRegressor.  \n",
    "5. **Different target**: repeat all experiments predicting cooling load (`Y2` in column 9) instead of heating load."
   ]
  },
  {
   "cell_type": "code",
   "execution_count": null,
   "metadata": {},
   "outputs": [],
   "source": []
  }
 ],
 "metadata": {
  "kernelspec": {
   "display_name": "Python 3 (ipykernel)",
   "language": "python",
   "name": "python3"
  },
  "language_info": {
   "codemirror_mode": {
    "name": "ipython",
    "version": 3
   },
   "file_extension": ".py",
   "mimetype": "text/x-python",
   "name": "python",
   "nbconvert_exporter": "python",
   "pygments_lexer": "ipython3",
   "version": "3.10.18"
  }
 },
 "nbformat": 4,
 "nbformat_minor": 4
}

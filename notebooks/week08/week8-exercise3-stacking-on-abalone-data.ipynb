{
 "cells": [
  {
   "cell_type": "markdown",
   "metadata": {},
   "source": [
    "# Exercise 8.3: Stacking on Abalone Dataset (Regression)\n",
    "\n",
    "**Objective:** Compare several base regressors and build a stacking ensemble to predict abalone age (rings).\n",
    "\n",
    "## Experiment Setup\n",
    "- **Dataset:** Abalone (4,177 samples, 8 features + sex)  \n",
    "- **Target:** Number of rings (proxy for age)  \n",
    "- **Test Size:** 30% holdout  \n",
    "- **Metrics:** RMSE & MAE  \n",
    "- **Base Models:**  \n",
    "  1. Decision Tree Regressor  \n",
    "  2. K-Nearest Neighbors Regressor  \n",
    "  3. Gradient Boosting Regressor  \n",
    "  4. MLP Regressor  \n",
    "- **Ensemble:** `StackingRegressor` with Ridge as meta-learner"
   ]
  },
  {
   "cell_type": "markdown",
   "metadata": {},
   "source": [
    "## 1️⃣ Imports"
   ]
  },
  {
   "cell_type": "code",
   "execution_count": null,
   "metadata": {},
   "outputs": [],
   "source": [
    "\n",
    "import numpy as np\n",
    "import pandas as pd\n",
    "import matplotlib.pyplot as plt\n",
    "%matplotlib inline\n",
    "\n",
    "from sklearn.model_selection import train_test_split\n",
    "from sklearn.preprocessing import StandardScaler\n",
    "from sklearn.tree import DecisionTreeRegressor\n",
    "from sklearn.neighbors import KNeighborsRegressor\n",
    "from sklearn.ensemble import GradientBoostingRegressor, StackingRegressor, VotingRegressor\n",
    "from sklearn.neural_network import MLPRegressor\n",
    "from sklearn.linear_model import Ridge\n",
    "from sklearn.metrics import mean_squared_error, mean_absolute_error\n"
   ]
  },
  {
   "cell_type": "markdown",
   "metadata": {},
   "source": [
    "## 2️⃣ Data Loading & Preprocessing\n",
    "\n",
    "- Fetch Abalone data from UCI repository  \n",
    "- Assign column names, one-hot encode `sex`  \n",
    "- Split 70% train / 30% test  \n",
    "- Standardize numeric features"
   ]
  },
  {
   "cell_type": "code",
   "execution_count": null,
   "metadata": {},
   "outputs": [],
   "source": [
    "# load data\n",
    "url = 'https://archive.ics.uci.edu/ml/machine-learning-databases/abalone/abalone.data'\n",
    "cols = [\n",
    "    'Sex','Length','Diameter','Height',\n",
    "    'WholeWeight','ShuckedWeight','VisceraWeight','ShellWeight','Rings'\n",
    "]\n",
    "df = pd.read_csv(url, header=None, names=cols)\n",
    "\n",
    "# one-hot encode Sex\n",
    "df = pd.get_dummies(df, columns=['Sex'], drop_first=True)\n",
    "\n",
    "# features & target\n",
    "X = df.drop('Rings', axis=1).values\n",
    "y = df['Rings'].values\n",
    "\n",
    "# train/test split\n",
    "X_train, X_test, y_train, y_test = train_test_split(\n",
    "    X, y, test_size=0.3, random_state=42)\n",
    "\n",
    "# scale features\n",
    "scaler = StandardScaler().fit(X_train)\n",
    "X_train = scaler.transform(X_train)\n",
    "X_test  = scaler.transform(X_test)\n",
    "\n",
    "print(f\"Train shape: {X_train.shape}, Test shape: {X_test.shape}\")"
   ]
  },
  {
   "cell_type": "markdown",
   "metadata": {},
   "source": [
    "## 3️⃣ Individual Regressors\n",
    "\n",
    "Train 4 base models and report RMSE & MAE."
   ]
  },
  {
   "cell_type": "code",
   "execution_count": null,
   "metadata": {},
   "outputs": [],
   "source": [
    "models = {\n",
    "    'DecisionTree': DecisionTreeRegressor(max_depth=5, random_state=42),\n",
    "    'KNN': KNeighborsRegressor(n_neighbors=5),\n",
    "    'GBR': GradientBoostingRegressor(n_estimators=100, learning_rate=0.1,\n",
    "                                        max_depth=3, random_state=42),\n",
    "    'MLP': MLPRegressor(hidden_layer_sizes=(50,), learning_rate_init=0.01,\n",
    "                        max_iter=500, random_state=42)\n",
    "}\n",
    "\n",
    "results = []\n",
    "for name, model in models.items():\n",
    "    model.fit(X_train, y_train)\n",
    "    y_pred = model.predict(X_test)\n",
    "    rmse = np.sqrt(mean_squared_error(y_test, y_pred))\n",
    "    mae  = mean_absolute_error(y_test, y_pred)\n",
    "    results.append((name, rmse, mae))\n",
    "\n",
    "df_ind = pd.DataFrame(results, columns=['Model','RMSE','MAE'])\n",
    "print(df_ind)"
   ]
  },
  {
   "cell_type": "markdown",
   "metadata": {},
   "source": [
    "## 4️⃣ Voting Regressor (Baseline Ensemble)\n",
    "Combine base models with equal weights."
   ]
  },
  {
   "cell_type": "code",
   "execution_count": null,
   "metadata": {},
   "outputs": [],
   "source": [
    "estimators = [(name, m) for name, m in models.items()]\n",
    "voter = VotingRegressor(estimators=estimators)\n",
    "voter.fit(X_train, y_train)\n",
    "y_v = voter.predict(X_test)\n",
    "rmse_v = np.sqrt(mean_squared_error(y_test, y_v))\n",
    "mae_v  = mean_absolute_error(y_test, y_v)\n",
    "print(f\"VotingRegressor | RMSE: {rmse_v:.3f}, MAE: {mae_v:.3f}\")"
   ]
  },
  {
   "cell_type": "markdown",
   "metadata": {},
   "source": [
    "## 5️⃣ Stacking Regressor\n",
    "\n",
    "Build a `StackingRegressor` using Ridge as the meta-learner."
   ]
  },
  {
   "cell_type": "code",
   "execution_count": null,
   "metadata": {},
   "outputs": [],
   "source": [
    "stack = StackingRegressor(\n",
    "    estimators=estimators,\n",
    "    final_estimator=Ridge(alpha=1.0),\n",
    "    passthrough=False,\n",
    "    cv=5\n",
    ")\n",
    "stack.fit(X_train, y_train)\n",
    "y_s = stack.predict(X_test)\n",
    "rmse_s = np.sqrt(mean_squared_error(y_test, y_s))\n",
    "mae_s  = mean_absolute_error(y_test, y_s)\n",
    "print(f\"StackingRegressor | RMSE: {rmse_s:.3f}, MAE: {mae_s:.3f}\")"
   ]
  },
  {
   "cell_type": "markdown",
   "metadata": {},
   "source": [
    "## 6️⃣ Challenges\n",
    "\n",
    "1. **Different meta-learner:** swap `Ridge` for `Lasso` or `SVR`.  \n",
    "2. **Manual stacking:** generate out-of-fold predictions from base models and train meta-learner yourself.  \n",
    "3. **Feature selection:** use only top-5 features (by importance from GBR) and re-run stacking.  \n",
    "4. **Hyperparameter tuning:** use `GridSearchCV` to tune `final_estimator__alpha` in Ridge within the stacking pipeline."
   ]
  },
  {
   "cell_type": "code",
   "execution_count": null,
   "metadata": {},
   "outputs": [],
   "source": []
  }
 ],
 "metadata": {
  "kernelspec": {
   "display_name": "Python 3 (ipykernel)",
   "language": "python",
   "name": "python3"
  },
  "language_info": {
   "codemirror_mode": {
    "name": "ipython",
    "version": 3
   },
   "file_extension": ".py",
   "mimetype": "text/x-python",
   "name": "python",
   "nbconvert_exporter": "python",
   "pygments_lexer": "ipython3",
   "version": "3.10.18"
  }
 },
 "nbformat": 4,
 "nbformat_minor": 4
}

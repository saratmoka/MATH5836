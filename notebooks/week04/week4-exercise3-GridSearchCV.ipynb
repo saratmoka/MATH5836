{
 "cells": [
  {
   "cell_type": "markdown",
   "id": "5323f04d",
   "metadata": {},
   "source": [
    "# Neural Network Hyperparameter Tuning using GridSearch CV\n",
    "## Experimental Setup\n",
    "- **Objective**: Discover optimal neural network architecture through grid search\n",
    "- **Algorithm**: MLPClassifier from scikit-learn\n",
    "- **Search Strategy**: 3-fold cross-validation over 40 parameter combinations\n",
    "- **Evaluation Metrics**: Accuracy, F1-score, ROC AUC"
   ]
  },
  {
   "cell_type": "markdown",
   "id": "abb80286",
   "metadata": {},
   "source": [
    "## 1️⃣ Core Imports & Configuration"
   ]
  },
  {
   "cell_type": "code",
   "execution_count": 1,
   "id": "e020db52",
   "metadata": {},
   "outputs": [],
   "source": [
    "import pandas as pd\n",
    "import numpy as np\n",
    "import matplotlib.pyplot as plt\n",
    "from sklearn.model_selection import train_test_split, GridSearchCV\n",
    "from sklearn.neural_network import MLPClassifier\n",
    "from sklearn.metrics import (accuracy_score, classification_report,\n",
    "                             confusion_matrix, ConfusionMatrixDisplay,\n",
    "                             roc_auc_score, roc_curve)\n",
    "from sklearn.preprocessing import StandardScaler\n",
    "\n",
    "# Reproducibility\n",
    "RANDOM_STATE = 23\n",
    "np.random.seed(RANDOM_STATE)"
   ]
  },
  {
   "cell_type": "markdown",
   "id": "3dda77d5",
   "metadata": {},
   "source": [
    "## 2️⃣ Data Loading & Preprocessing\n",
    "### Dataset Characteristics\n",
    "- **Features**: 8 medical predictors (pregnancies, glucose, BP, etc.)\n",
    "- **Target**: Diabetes diagnosis (0=negative, 1=positive)\n",
    "- **Samples**: 768 total, 268 positive cases (34.9%)"
   ]
  },
  {
   "cell_type": "code",
   "execution_count": 2,
   "id": "b317cfc5",
   "metadata": {},
   "outputs": [
    {
     "name": "stdout",
     "output_type": "stream",
     "text": [
      "Training samples: 537, Test samples: 231\n"
     ]
    }
   ],
   "source": [
    "# Load and split data\n",
    "df = pd.read_csv(\"../datasets/pima-indians-diabetes.csv\", header=None)\n",
    "\n",
    "# Separate features (all columns except last) and target (last column)\n",
    "X = df.iloc[:, :-1].values\n",
    "y = df.iloc[:, -1].values\n",
    "\n",
    "# Standardization\n",
    "scaler = StandardScaler()\n",
    "X_scaled = scaler.fit_transform(X)\n",
    "\n",
    "# Train-test split\n",
    "X_train, X_test, y_train, y_test = train_test_split(\n",
    "    X_scaled, y,\n",
    "    test_size=0.3,\n",
    "    stratify=y,\n",
    "    random_state=RANDOM_STATE\n",
    ")\n",
    "\n",
    "print(f\"Training samples: {X_train.shape[0]}, Test samples: {X_test.shape[0]}\")"
   ]
  },
  {
   "cell_type": "markdown",
   "id": "30be97e9",
   "metadata": {},
   "source": [
    "## 3️⃣ Hyperparameter Search Space\n",
    "**Scanned Parameters**:\n",
    "- Architecture: [(50), (50,50), (100,50)]\n",
    "- Activation: ReLU vs Tanh\n",
    "- Solver: Adam vs SGD\n",
    "- Regularization (alpha): [0.0001, 0.05]\n",
    "- Learning Rate Policy: Constant vs Adaptive"
   ]
  },
  {
   "cell_type": "code",
   "execution_count": 3,
   "id": "a47993c5",
   "metadata": {},
   "outputs": [],
   "source": [
    "parameter_space = {\n",
    "    'hidden_layer_sizes': [(50), (50,50), (100,50)],\n",
    "    'activation': ['tanh', 'relu'],\n",
    "    'solver': ['sgd', 'adam'],\n",
    "    'alpha': [0.0001, 0.05],\n",
    "    'learning_rate': ['constant', 'adaptive']\n",
    "}\n",
    "\n",
    "mlp = MLPClassifier(early_stopping=True,  # Stop when validation stops improving\n",
    "                    max_iter=5000, \n",
    "                    validation_fraction=0.2,  # Hold out 10% for early stopping\n",
    "                    n_iter_no_change=20,  # Stop after 20 epochs without improvement\n",
    "                    random_state=RANDOM_STATE)\n",
    "\n",
    "clf = GridSearchCV(mlp, parameter_space, cv=3, n_jobs=-1, verbose=1)"
   ]
  },
  {
   "cell_type": "markdown",
   "id": "e5837fe9",
   "metadata": {},
   "source": [
    "## 4️⃣ Grid Search Execution\n",
    "```mermaid\n",
    "graph LR\n",
    "    A[768 Samples] --> B[3-Fold CV]\n",
    "    B --> C{40 Combinations}\n",
    "    C --> D[Fit Model]\n",
    "    D --> E[Evaluate Val Score]\n",
    "```\n",
    "**Expected Runtime**: ~5-10 minutes (parallel jobs)"
   ]
  },
  {
   "cell_type": "code",
   "execution_count": 4,
   "id": "b7f3f464",
   "metadata": {},
   "outputs": [
    {
     "name": "stdout",
     "output_type": "stream",
     "text": [
      "Fitting 3 folds for each of 48 candidates, totalling 144 fits\n",
      "\n",
      "Optimal Parameters Discovered:\n",
      "--------------------------------------------------\n",
      "          activation: tanh\n",
      "               alpha: 0.0001\n",
      "  hidden_layer_sizes: (100, 50)\n",
      "       learning_rate: constant\n",
      "              solver: adam\n"
     ]
    }
   ],
   "source": [
    "clf.fit(X_train, y_train)\n",
    "\n",
    "print(\"\\nOptimal Parameters Discovered:\")\n",
    "print(\"-\"*50)\n",
    "for param, value in clf.best_params_.items():\n",
    "    print(f\"{param:>20}: {value}\")"
   ]
  },
  {
   "cell_type": "markdown",
   "id": "93f5d23c",
   "metadata": {},
   "source": [
    "## 5️⃣ Model Evaluation\n",
    "### Test Set Performance"
   ]
  },
  {
   "cell_type": "code",
   "execution_count": 5,
   "id": "06e4defc",
   "metadata": {},
   "outputs": [
    {
     "name": "stdout",
     "output_type": "stream",
     "text": [
      "              precision    recall  f1-score   support\n",
      "\n",
      "           0       0.80      0.83      0.81       150\n",
      "           1       0.66      0.62      0.64        81\n",
      "\n",
      "    accuracy                           0.75       231\n",
      "   macro avg       0.73      0.72      0.73       231\n",
      "weighted avg       0.75      0.75      0.75       231\n",
      "\n",
      "\n",
      "ROC AUC Score: 0.842\n"
     ]
    },
    {
     "data": {
      "image/png": "[encoded data removed]",
      "text/plain": [
       "<Figure size 1400x500 with 3 Axes>"
      ]
     },
     "metadata": {},
     "output_type": "display_data"
    }
   ],
   "source": [
    "# Predictions & Metrics\n",
    "y_pred = clf.predict(X_test)\n",
    "y_proba = clf.predict_proba(X_test)[:,1]\n",
    "\n",
    "print(classification_report(y_test, y_pred))\n",
    "print(f\"\\nROC AUC Score: {roc_auc_score(y_test, y_proba):.3f}\")\n",
    "\n",
    "# Confusion Matrix\n",
    "fig, ax = plt.subplots(1,2, figsize=(14,5))\n",
    "ConfusionMatrixDisplay.from_predictions(y_test, y_pred, ax=ax[0], cmap='Blues')\n",
    "ax[0].set_title(\"Confusion Matrix\")\n",
    "\n",
    "# ROC Curve\n",
    "fpr, tpr, _ = roc_curve(y_test, y_proba)\n",
    "ax[1].plot(fpr, tpr, label=f'AUC = {roc_auc_score(y_test, y_proba):.2f}')\n",
    "ax[1].plot([0,1], [0,1], 'k--')\n",
    "ax[1].set_xlabel('False Positive Rate')\n",
    "ax[1].set_ylabel('True Positive Rate')\n",
    "ax[1].set_title('ROC Curve')\n",
    "ax[1].legend()\n",
    "plt.tight_layout()\n",
    "plt.show()"
   ]
  },
  {
   "cell_type": "markdown",
   "id": "06969b03",
   "metadata": {},
   "source": [
    "## 6️⃣ Full Cross-Validation Results\n",
    "**Key Observations**:\n",
    "- Best validation score: X.XX ± XX\n",
    "- Most influential parameter: [parameter]\n",
    "- Sensitivity analysis: [finding]"
   ]
  },
  {
   "cell_type": "code",
   "execution_count": 6,
   "id": "1e5e26b3",
   "metadata": {},
   "outputs": [
    {
     "name": "stdout",
     "output_type": "stream",
     "text": [
      "Top 5 Configurations:\n"
     ]
    },
    {
     "data": {
      "text/html": [
       "<div>\n",
       "<style scoped>\n",
       "    .dataframe tbody tr th:only-of-type {\n",
       "        vertical-align: middle;\n",
       "    }\n",
       "\n",
       "    .dataframe tbody tr th {\n",
       "        vertical-align: top;\n",
       "    }\n",
       "\n",
       "    .dataframe thead th {\n",
       "        text-align: right;\n",
       "    }\n",
       "</style>\n",
       "<table border=\"1\" class=\"dataframe\">\n",
       "  <thead>\n",
       "    <tr style=\"text-align: right;\">\n",
       "      <th></th>\n",
       "      <th>params</th>\n",
       "      <th>mean_test_score</th>\n",
       "      <th>std_test_score</th>\n",
       "    </tr>\n",
       "  </thead>\n",
       "  <tbody>\n",
       "    <tr>\n",
       "      <th>23</th>\n",
       "      <td>{'activation': 'tanh', 'alpha': 0.05, 'hidden_...</td>\n",
       "      <td>0.756052</td>\n",
       "      <td>0.016019</td>\n",
       "    </tr>\n",
       "    <tr>\n",
       "      <th>21</th>\n",
       "      <td>{'activation': 'tanh', 'alpha': 0.05, 'hidden_...</td>\n",
       "      <td>0.756052</td>\n",
       "      <td>0.016019</td>\n",
       "    </tr>\n",
       "    <tr>\n",
       "      <th>9</th>\n",
       "      <td>{'activation': 'tanh', 'alpha': 0.0001, 'hidde...</td>\n",
       "      <td>0.756052</td>\n",
       "      <td>0.016019</td>\n",
       "    </tr>\n",
       "    <tr>\n",
       "      <th>11</th>\n",
       "      <td>{'activation': 'tanh', 'alpha': 0.0001, 'hidde...</td>\n",
       "      <td>0.756052</td>\n",
       "      <td>0.016019</td>\n",
       "    </tr>\n",
       "    <tr>\n",
       "      <th>29</th>\n",
       "      <td>{'activation': 'relu', 'alpha': 0.0001, 'hidde...</td>\n",
       "      <td>0.744879</td>\n",
       "      <td>0.032362</td>\n",
       "    </tr>\n",
       "  </tbody>\n",
       "</table>\n",
       "</div>"
      ],
      "text/plain": [
       "                                               params  mean_test_score  \\\n",
       "23  {'activation': 'tanh', 'alpha': 0.05, 'hidden_...         0.756052   \n",
       "21  {'activation': 'tanh', 'alpha': 0.05, 'hidden_...         0.756052   \n",
       "9   {'activation': 'tanh', 'alpha': 0.0001, 'hidde...         0.756052   \n",
       "11  {'activation': 'tanh', 'alpha': 0.0001, 'hidde...         0.756052   \n",
       "29  {'activation': 'relu', 'alpha': 0.0001, 'hidde...         0.744879   \n",
       "\n",
       "    std_test_score  \n",
       "23        0.016019  \n",
       "21        0.016019  \n",
       "9         0.016019  \n",
       "11        0.016019  \n",
       "29        0.032362  "
      ]
     },
     "metadata": {},
     "output_type": "display_data"
    },
    {
     "name": "stdout",
     "output_type": "stream",
     "text": [
      "\n",
      "Full Hyperparameter Performance:\n",
      " 1. 0.687 ± 0.044 | {'activation': 'tanh', 'alpha': 0.0001, 'hidden_layer_sizes': 50, 'learning_rate': 'constant', 'solver': 'sgd'}\n",
      " 2. 0.728 ± 0.050 | {'activation': 'tanh', 'alpha': 0.0001, 'hidden_layer_sizes': 50, 'learning_rate': 'constant', 'solver': 'adam'}\n",
      " 3. 0.736 ± 0.058 | {'activation': 'tanh', 'alpha': 0.0001, 'hidden_layer_sizes': 50, 'learning_rate': 'adaptive', 'solver': 'sgd'}\n",
      " 4. 0.728 ± 0.050 | {'activation': 'tanh', 'alpha': 0.0001, 'hidden_layer_sizes': 50, 'learning_rate': 'adaptive', 'solver': 'adam'}\n",
      " 5. 0.721 ± 0.028 | {'activation': 'tanh', 'alpha': 0.0001, 'hidden_layer_sizes': (50, 50), 'learning_rate': 'constant', 'solver': 'sgd'}\n",
      " 6. 0.739 ± 0.034 | {'activation': 'tanh', 'alpha': 0.0001, 'hidden_layer_sizes': (50, 50), 'learning_rate': 'constant', 'solver': 'adam'}\n",
      " 7. 0.743 ± 0.024 | {'activation': 'tanh', 'alpha': 0.0001, 'hidden_layer_sizes': (50, 50), 'learning_rate': 'adaptive', 'solver': 'sgd'}\n",
      " 8. 0.739 ± 0.034 | {'activation': 'tanh', 'alpha': 0.0001, 'hidden_layer_sizes': (50, 50), 'learning_rate': 'adaptive', 'solver': 'adam'}\n",
      " 9. 0.743 ± 0.028 | {'activation': 'tanh', 'alpha': 0.0001, 'hidden_layer_sizes': (100, 50), 'learning_rate': 'constant', 'solver': 'sgd'}\n",
      "10. 0.756 ± 0.016 | {'activation': 'tanh', 'alpha': 0.0001, 'hidden_layer_sizes': (100, 50), 'learning_rate': 'constant', 'solver': 'adam'}\n",
      "11. 0.743 ± 0.028 | {'activation': 'tanh', 'alpha': 0.0001, 'hidden_layer_sizes': (100, 50), 'learning_rate': 'adaptive', 'solver': 'sgd'}\n",
      "12. 0.756 ± 0.016 | {'activation': 'tanh', 'alpha': 0.0001, 'hidden_layer_sizes': (100, 50), 'learning_rate': 'adaptive', 'solver': 'adam'}\n",
      "13. 0.687 ± 0.044 | {'activation': 'tanh', 'alpha': 0.05, 'hidden_layer_sizes': 50, 'learning_rate': 'constant', 'solver': 'sgd'}\n",
      "14. 0.728 ± 0.050 | {'activation': 'tanh', 'alpha': 0.05, 'hidden_layer_sizes': 50, 'learning_rate': 'constant', 'solver': 'adam'}\n",
      "15. 0.736 ± 0.058 | {'activation': 'tanh', 'alpha': 0.05, 'hidden_layer_sizes': 50, 'learning_rate': 'adaptive', 'solver': 'sgd'}\n",
      "16. 0.728 ± 0.050 | {'activation': 'tanh', 'alpha': 0.05, 'hidden_layer_sizes': 50, 'learning_rate': 'adaptive', 'solver': 'adam'}\n",
      "17. 0.721 ± 0.028 | {'activation': 'tanh', 'alpha': 0.05, 'hidden_layer_sizes': (50, 50), 'learning_rate': 'constant', 'solver': 'sgd'}\n",
      "18. 0.739 ± 0.034 | {'activation': 'tanh', 'alpha': 0.05, 'hidden_layer_sizes': (50, 50), 'learning_rate': 'constant', 'solver': 'adam'}\n",
      "19. 0.743 ± 0.024 | {'activation': 'tanh', 'alpha': 0.05, 'hidden_layer_sizes': (50, 50), 'learning_rate': 'adaptive', 'solver': 'sgd'}\n",
      "20. 0.739 ± 0.034 | {'activation': 'tanh', 'alpha': 0.05, 'hidden_layer_sizes': (50, 50), 'learning_rate': 'adaptive', 'solver': 'adam'}\n",
      "21. 0.743 ± 0.028 | {'activation': 'tanh', 'alpha': 0.05, 'hidden_layer_sizes': (100, 50), 'learning_rate': 'constant', 'solver': 'sgd'}\n",
      "22. 0.756 ± 0.016 | {'activation': 'tanh', 'alpha': 0.05, 'hidden_layer_sizes': (100, 50), 'learning_rate': 'constant', 'solver': 'adam'}\n",
      "23. 0.743 ± 0.028 | {'activation': 'tanh', 'alpha': 0.05, 'hidden_layer_sizes': (100, 50), 'learning_rate': 'adaptive', 'solver': 'sgd'}\n",
      "24. 0.756 ± 0.016 | {'activation': 'tanh', 'alpha': 0.05, 'hidden_layer_sizes': (100, 50), 'learning_rate': 'adaptive', 'solver': 'adam'}\n",
      "25. 0.680 ± 0.023 | {'activation': 'relu', 'alpha': 0.0001, 'hidden_layer_sizes': 50, 'learning_rate': 'constant', 'solver': 'sgd'}\n",
      "26. 0.695 ± 0.022 | {'activation': 'relu', 'alpha': 0.0001, 'hidden_layer_sizes': 50, 'learning_rate': 'constant', 'solver': 'adam'}\n",
      "27. 0.689 ± 0.017 | {'activation': 'relu', 'alpha': 0.0001, 'hidden_layer_sizes': 50, 'learning_rate': 'adaptive', 'solver': 'sgd'}\n",
      "28. 0.695 ± 0.022 | {'activation': 'relu', 'alpha': 0.0001, 'hidden_layer_sizes': 50, 'learning_rate': 'adaptive', 'solver': 'adam'}\n",
      "29. 0.693 ± 0.024 | {'activation': 'relu', 'alpha': 0.0001, 'hidden_layer_sizes': (50, 50), 'learning_rate': 'constant', 'solver': 'sgd'}\n",
      "30. 0.745 ± 0.032 | {'activation': 'relu', 'alpha': 0.0001, 'hidden_layer_sizes': (50, 50), 'learning_rate': 'constant', 'solver': 'adam'}\n",
      "31. 0.691 ± 0.021 | {'activation': 'relu', 'alpha': 0.0001, 'hidden_layer_sizes': (50, 50), 'learning_rate': 'adaptive', 'solver': 'sgd'}\n",
      "32. 0.745 ± 0.032 | {'activation': 'relu', 'alpha': 0.0001, 'hidden_layer_sizes': (50, 50), 'learning_rate': 'adaptive', 'solver': 'adam'}\n",
      "33. 0.682 ± 0.051 | {'activation': 'relu', 'alpha': 0.0001, 'hidden_layer_sizes': (100, 50), 'learning_rate': 'constant', 'solver': 'sgd'}\n",
      "34. 0.732 ± 0.033 | {'activation': 'relu', 'alpha': 0.0001, 'hidden_layer_sizes': (100, 50), 'learning_rate': 'constant', 'solver': 'adam'}\n",
      "35. 0.693 ± 0.060 | {'activation': 'relu', 'alpha': 0.0001, 'hidden_layer_sizes': (100, 50), 'learning_rate': 'adaptive', 'solver': 'sgd'}\n",
      "36. 0.732 ± 0.033 | {'activation': 'relu', 'alpha': 0.0001, 'hidden_layer_sizes': (100, 50), 'learning_rate': 'adaptive', 'solver': 'adam'}\n",
      "37. 0.680 ± 0.023 | {'activation': 'relu', 'alpha': 0.05, 'hidden_layer_sizes': 50, 'learning_rate': 'constant', 'solver': 'sgd'}\n",
      "38. 0.695 ± 0.022 | {'activation': 'relu', 'alpha': 0.05, 'hidden_layer_sizes': 50, 'learning_rate': 'constant', 'solver': 'adam'}\n",
      "39. 0.689 ± 0.017 | {'activation': 'relu', 'alpha': 0.05, 'hidden_layer_sizes': 50, 'learning_rate': 'adaptive', 'solver': 'sgd'}\n",
      "40. 0.695 ± 0.022 | {'activation': 'relu', 'alpha': 0.05, 'hidden_layer_sizes': 50, 'learning_rate': 'adaptive', 'solver': 'adam'}\n",
      "41. 0.693 ± 0.024 | {'activation': 'relu', 'alpha': 0.05, 'hidden_layer_sizes': (50, 50), 'learning_rate': 'constant', 'solver': 'sgd'}\n",
      "42. 0.741 ± 0.027 | {'activation': 'relu', 'alpha': 0.05, 'hidden_layer_sizes': (50, 50), 'learning_rate': 'constant', 'solver': 'adam'}\n",
      "43. 0.693 ± 0.024 | {'activation': 'relu', 'alpha': 0.05, 'hidden_layer_sizes': (50, 50), 'learning_rate': 'adaptive', 'solver': 'sgd'}\n",
      "44. 0.741 ± 0.027 | {'activation': 'relu', 'alpha': 0.05, 'hidden_layer_sizes': (50, 50), 'learning_rate': 'adaptive', 'solver': 'adam'}\n",
      "45. 0.682 ± 0.051 | {'activation': 'relu', 'alpha': 0.05, 'hidden_layer_sizes': (100, 50), 'learning_rate': 'constant', 'solver': 'sgd'}\n",
      "46. 0.732 ± 0.033 | {'activation': 'relu', 'alpha': 0.05, 'hidden_layer_sizes': (100, 50), 'learning_rate': 'constant', 'solver': 'adam'}\n",
      "47. 0.693 ± 0.060 | {'activation': 'relu', 'alpha': 0.05, 'hidden_layer_sizes': (100, 50), 'learning_rate': 'adaptive', 'solver': 'sgd'}\n",
      "48. 0.732 ± 0.033 | {'activation': 'relu', 'alpha': 0.05, 'hidden_layer_sizes': (100, 50), 'learning_rate': 'adaptive', 'solver': 'adam'}\n"
     ]
    }
   ],
   "source": [
    "results = pd.DataFrame(clf.cv_results_)\n",
    "print(\"Top 5 Configurations:\")\n",
    "display(\n",
    "    results.sort_values('rank_test_score')\n",
    "    .head(5)\n",
    "    [['params', 'mean_test_score', 'std_test_score']]\n",
    ")\n",
    "\n",
    "print(\"\\nFull Hyperparameter Performance:\")\n",
    "for i, (mean, std, params) in enumerate(zip(\n",
    "    results['mean_test_score'],\n",
    "    results['std_test_score'],\n",
    "    results['params']\n",
    ")):\n",
    "    print(f\"{i+1:2d}. {mean:.3f} ± {std:.3f} | {params}\")"
   ]
  }
 ],
 "metadata": {
  "kernelspec": {
   "display_name": "Python 3 (ipykernel)",
   "language": "python",
   "name": "python3"
  },
  "language_info": {
   "codemirror_mode": {
    "name": "ipython",
    "version": 3
   },
   "file_extension": ".py",
   "mimetype": "text/x-python",
   "name": "python",
   "nbconvert_exporter": "python",
   "pygments_lexer": "ipython3",
   "version": "3.10.18"
  }
 },
 "nbformat": 4,
 "nbformat_minor": 5
}

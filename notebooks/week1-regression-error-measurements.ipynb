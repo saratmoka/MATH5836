{
 "cells": [
  {
   "cell_type": "markdown",
   "metadata": {},
   "source": [
    "# Exercise 1: Error Metrics (MSE, RMSE, MAE)\n",
    "Generate two vectors `y` and `y_hat` of length `n` and compute MSE, RMSE, and MAE using both custom functions and \\texttt{sklearn}."
   ]
  },
  {
   "cell_type": "code",
   "execution_count": null,
   "metadata": {},
   "outputs": [],
   "source": [
    "import numpy as np\n",
    "from sklearn.metrics import mean_squared_error, mean_absolute_error\n",
    "\n",
    "# 1) Generate data\n",
    "np.random.seed(42)\n",
    "n = 100\n",
    "y = np.random.randn(n)\n",
    "y_hat = y + np.random.normal(scale=0.5, size=n)\n",
    "\n",
    "# Print the first five elements of y and y_hat\n",
    "print(f\"y[:5]     = {y[:5]}\")\n",
    "print(f\"y_hat[:5] = {y_hat[:5]}\")"
   ]
  },
  {
   "cell_type": "markdown",
   "metadata": {},
   "source": [
    "## Custom Function Definitions"
   ]
  },
  {
   "cell_type": "code",
   "execution_count": null,
   "metadata": {},
   "outputs": [],
   "source": [
    "def mse(y_true, y_pred):\n",
    "    return np.mean((y_true - y_pred)**2)\n",
    "\n",
    "def rmse(y_true, y_pred):\n",
    "    return np.sqrt(mse(y_true, y_pred))\n",
    "\n",
    "def mae(y_true, y_pred):\n",
    "    return np.mean(np.abs(y_true - y_pred))"
   ]
  },
  {
   "cell_type": "code",
   "execution_count": null,
   "metadata": {},
   "outputs": [],
   "source": [
    "# 2) Compute metrics with custom functions\n",
    "mse_c = mse(y, y_hat)\n",
    "rmse_c = rmse(y, y_hat)\n",
    "mae_c = mae(y, y_hat)\n",
    "\n",
    "print(f\"Custom MSE:  {mse_c:.4f}\")\n",
    "print(f\"Custom RMSE: {rmse_c:.4f}\")\n",
    "print(f\"Custom MAE:  {mae_c:.4f}\")"
   ]
  },
  {
   "cell_type": "markdown",
   "metadata": {},
   "source": [
    "## sklearn Metrics"
   ]
  },
  {
   "cell_type": "code",
   "execution_count": null,
   "metadata": {},
   "outputs": [],
   "source": [
    "# 3) Compute metrics with sklearn\n",
    "mse_s = mean_squared_error(y, y_hat)\n",
    "rmse_s = np.sqrt(mse_s)\n",
    "mae_s = mean_absolute_error(y, y_hat)\n",
    "\n",
    "print(f\"sklearn MSE:  {mse_s:.4f}\")\n",
    "print(f\"sklearn RMSE: {rmse_s:.4f}\")\n",
    "print(f\"sklearn MAE:  {mae_s:.4f}\")"
   ]
  },
  {
   "cell_type": "markdown",
   "metadata": {},
   "source": [
    "**Observation:** The custom implementations should match the results from `sklearn.metrics`."
   ]
  },
  {
   "cell_type": "code",
   "execution_count": null,
   "metadata": {},
   "outputs": [],
   "source": []
  }
 ],
 "metadata": {
  "kernelspec": {
   "display_name": "Python 3 (ipykernel)",
   "language": "python",
   "name": "python3"
  },
  "language_info": {
   "codemirror_mode": {
    "name": "ipython",
    "version": 3
   },
   "file_extension": ".py",
   "mimetype": "text/x-python",
   "name": "python",
   "nbconvert_exporter": "python",
   "pygments_lexer": "ipython3",
   "version": "3.11.12"
  }
 },
 "nbformat": 4,
 "nbformat_minor": 4
}

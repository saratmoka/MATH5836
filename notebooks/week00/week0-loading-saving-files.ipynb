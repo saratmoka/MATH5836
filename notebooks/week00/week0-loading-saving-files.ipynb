{
 "cells": [
  {
   "cell_type": "markdown",
   "metadata": {},
   "source": [
    "# Loading and Saving Files in Python\n",
    "\n",
    "This notebook shows simple examples of reading and writing:\n",
    "1. Plain text files\n",
    "2. CSV files with pandas\n",
    "3. Pickle (serialization of Python objects)\n"
   ]
  },
  {
   "cell_type": "markdown",
   "metadata": {},
   "source": [
    "## 1. Working with Plain Text Files\n",
    "\n",
    "We create a small text file, read it back, then append a line and save."
   ]
  },
  {
   "cell_type": "code",
   "execution_count": 1,
   "metadata": {},
   "outputs": [],
   "source": [
    "# Create and write to a text file\n",
    "with open('example.txt', 'w', encoding='utf-8') as f:\n",
    "    f.write('Hello, world!\\n')\n",
    "    f.write('This is a demo of file I/O in Python.\\n')\n",
    "\n",
    "# Read the entire file and display\n",
    "with open('example.txt', 'r', encoding='utf-8') as f:\n",
    "    text = f.read()\n",
    "print('Contents of example.txt:')\n",
    "print(text)"
   ]
  },
  {
   "cell_type": "code",
   "execution_count": 2,
   "metadata": {},
   "outputs": [],
   "source": [
    "# Append a new line\n",
    "with open('example.txt', 'a', encoding='utf-8') as f:\n",
    "    f.write('Appended line.\\n')\n",
    "\n",
    "# Read again to verify\n",
    "with open('example.txt', 'r', encoding='utf-8') as f:\n",
    "    print(f.read())"
   ]
  },
  {
   "cell_type": "markdown",
   "metadata": {},
   "source": [
    "## 2. CSV Files with pandas\n",
    "\n",
    "We create a simple `DataFrame`, save it to CSV, then load it back."
   ]
  },
  {
   "cell_type": "code",
   "execution_count": 3,
   "metadata": {},
   "outputs": [],
   "source": [
    "import pandas as pd\n",
    "\n",
    "# Create a sample DataFrame\n",
    "df = pd.DataFrame({\n",
    "    'name': ['Alice', 'Bob', 'Charlie'],\n",
    "    'age': [25, 30, 35],\n",
    "    'score': [85.5, 92.3, 88.0]\n",
    "})\n",
    "print('Original DataFrame:')\n",
    "print(df)\n",
    "\n",
    "# Save to CSV (without the index)\n",
    "csv_path = 'people.csv'\n",
    "df.to_csv(csv_path, index=False)\n",
    "print(f\"\\nSaved to {csv_path}\")"
   ]
  },
  {
   "cell_type": "code",
   "execution_count": 4,
   "metadata": {},
   "outputs": [],
   "source": [
    "# Load it back\n",
    "df2 = pd.read_csv(csv_path)\n",
    "print('\\nLoaded DataFrame:')\n",
    "print(df2)"
   ]
  },
  {
   "cell_type": "markdown",
   "metadata": {},
   "source": [
    "## 3. Serializing Python Objects with pickle\n",
    "\n",
    "We demonstrate saving a Python dictionary to disk and loading it back."
   ]
  },
  {
   "cell_type": "code",
   "execution_count": 5,
   "metadata": {},
   "outputs": [],
   "source": [
    "import pickle\n",
    "\n",
    "# Sample Python object\n",
    "data = {\n",
    "    'message': 'Hello, pickle!',\n",
    "    'values': [1, 2, 3, 4, 5]\n",
    "}\n",
    "\n",
    "# Serialize to a file\n",
    "with open('data.pkl', 'wb') as f:\n",
    "    pickle.dump(data, f)\n",
    "print('Object saved to data.pkl')\n",
    "\n",
    "# Deserialize from the file\n",
    "with open('data.pkl', 'rb') as f:\n",
    "    loaded = pickle.load(f)\n",
    "print('\\nLoaded object:')\n",
    "print(loaded)"
   ]
  }
 ],
 "metadata": {
  "kernelspec": {
   "display_name": "Python 3 (ipykernel)",
   "language": "python",
   "name": "python3"
  },
  "language_info": {
   "codemirror_mode": {
    "name": "ipython",
    "version": 3
   },
   "file_extension": ".py",
   "mimetype": "text/x-python",
   "name": "python",
   "nbconvert_exporter": "python",
   "pygments_lexer": "ipython3",
   "version": "3.11.12"
  }
 },
 "nbformat": 4,
 "nbformat_minor": 4
}

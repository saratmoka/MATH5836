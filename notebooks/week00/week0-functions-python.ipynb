{
 "cells": [
  {
   "cell_type": "markdown",
   "metadata": {},
   "source": [
    "# Python Functions Tutorial\n",
    "\n",
    "A concise guide to defining and using functions in Python."
   ]
  },
  {
   "cell_type": "markdown",
   "metadata": {},
   "source": [
    "## 1. Defining a Function\n",
    "Use the `def` keyword, give the function a name, a parameter list in parentheses, and a colon."
   ]
  },
  {
   "cell_type": "code",
   "execution_count": null,
   "metadata": {},
   "outputs": [],
   "source": [
    "def greet(name):\n",
    "    \"\"\"Return a greeting message for the given name.\"\"\"\n",
    "    return f\"Hello, {name}!\"\n",
    "\n",
    "print(greet(\"Alice\"))"
   ]
  },
  {
   "cell_type": "markdown",
   "metadata": {},
   "source": [
    "## 2. Positional and Keyword Arguments\n",
    "- **Positional**: rely on position order.\n",
    "- **Keyword**: specify `param=value`."
   ]
  },
  {
   "cell_type": "code",
   "execution_count": null,
   "metadata": {},
   "outputs": [],
   "source": [
    "def power(base, exponent):\n",
    "    return base ** exponent\n",
    "\n",
    "# positional\n",
    "print(power(2, 3))       # 8\n",
    "# keyword\n",
    "print(power(exponent=4, base=5))  # 625"
   ]
  },
  {
   "cell_type": "markdown",
   "metadata": {},
   "source": [
    "## 3. Default Parameter Values\n",
    "Provide defaults so callers can omit arguments."
   ]
  },
  {
   "cell_type": "code",
   "execution_count": null,
   "metadata": {},
   "outputs": [],
   "source": [
    "def connect(host, port=3306):\n",
    "    return f\"Connecting to {host} on port {port}\"\n",
    "\n",
    "print(connect(\"db.example.com\"))\n",
    "print(connect(\"db.example.com\", port=5432))"
   ]
  },
  {
   "cell_type": "markdown",
   "metadata": {},
   "source": [
    "## 4. Variable-length Arguments\n",
    "- `*args` for extra positional args.\n",
    "- `**kwargs` for extra keyword args."
   ]
  },
  {
   "cell_type": "code",
   "execution_count": null,
   "metadata": {},
   "outputs": [],
   "source": [
    "def summarize(*args, **kwargs):\n",
    "    print(\"Positional:\", args)\n",
    "    print(\"Keyword:\", kwargs)\n",
    "\n",
    "summarize(1, 2, 3, a=10, b=20)"
   ]
  },
  {
   "cell_type": "markdown",
   "metadata": {},
   "source": [
    "## 5. Return Multiple Values\n",
    "Functions can return tuples, which can be unpacked."
   ]
  },
  {
   "cell_type": "code",
   "execution_count": null,
   "metadata": {},
   "outputs": [],
   "source": [
    "def min_max(numbers):\n",
    "    return min(numbers), max(numbers)\n",
    "\n",
    "lo, hi = min_max([4, 1, 7, 3])\n",
    "print(lo, hi)   # 1 7"
   ]
  },
  {
   "cell_type": "markdown",
   "metadata": {},
   "source": [
    "## 6. Docstrings and Annotations\n",
    "Use docstrings (`\"\"\"…\"\"\"`) and optional type hints for clarity."
   ]
  },
  {
   "cell_type": "code",
   "execution_count": null,
   "metadata": {},
   "outputs": [],
   "source": [
    "def add(a: float, b: float) -> float:\n",
    "    \"\"\"\n",
    "    Add two numbers.\n",
    "\n",
    "    :param a: first number\n",
    "    :param b: second number\n",
    "    :return: their sum\n",
    "    \"\"\"\n",
    "    return a + b\n",
    "\n",
    "help(add)\n",
    "print(add(2.5, 4.1))"
   ]
  },
  {
   "cell_type": "markdown",
   "metadata": {},
   "source": [
    "## 7. Lambda (Anonymous) Functions\n",
    "Small one-liner functions without a name."
   ]
  },
  {
   "cell_type": "code",
   "execution_count": null,
   "metadata": {},
   "outputs": [],
   "source": [
    "square = lambda x: x * x\n",
    "print(square(5))"
   ]
  },
  {
   "cell_type": "markdown",
   "metadata": {},
   "source": [
    "## 8. Higher-Order Functions: `map`, `filter`, `reduce`\n",
    "- **map** applies a function to each item.\n",
    "- **filter** selects items that satisfy a predicate.\n",
    "- **reduce** (from `functools`) aggregates items."
   ]
  },
  {
   "cell_type": "code",
   "execution_count": null,
   "metadata": {},
   "outputs": [],
   "source": [
    "from functools import reduce\n",
    "\n",
    "nums = [1, 2, 3, 4, 5]\n",
    "print(list(map(lambda x: x*2, nums)))            # [2,4,6,8,10]\n",
    "print(list(filter(lambda x: x%2==0, nums)))      # [2,4]\n",
    "print(reduce(lambda a, b: a+b, nums, 0))         # 15"
   ]
  },
  {
   "cell_type": "markdown",
   "metadata": {},
   "source": [
    "---\n",
    "Enjoy experimenting with functions!  Try adding your own examples below."
   ]
  },
  {
   "cell_type": "code",
   "execution_count": null,
   "metadata": {},
   "outputs": [],
   "source": []
  }
 ],
 "metadata": {
  "kernelspec": {
   "display_name": "Python 3 (ipykernel)",
   "language": "python",
   "name": "python3"
  },
  "language_info": {
   "codemirror_mode": {
    "name": "ipython",
    "version": 3
   },
   "file_extension": ".py",
   "mimetype": "text/x-python",
   "name": "python",
   "nbconvert_exporter": "python",
   "pygments_lexer": "ipython3",
   "version": "3.11.12"
  }
 },
 "nbformat": 4,
 "nbformat_minor": 4
}

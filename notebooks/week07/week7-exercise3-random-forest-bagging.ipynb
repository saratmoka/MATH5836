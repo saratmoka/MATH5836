{
 "cells": [
  {
   "cell_type": "markdown",
   "id": "65b18bde",
   "metadata": {},
   "source": [
    "# Exercise 3: Random Forests—Bagging, OOB Error, and Feature Importance\n",
    "\n",
    "**Goal:**\n",
    "1. Load and preprocess the Adult income dataset.  \n",
    "2. Train a single Decision Tree and evaluate.  \n",
    "3. Train a Random Forest with OOB estimation.  \n",
    "4. Plot OOB error vs number of trees.  \n",
    "5. Extract and visualize feature importances."
   ]
  },
  {
   "cell_type": "markdown",
   "id": "8fd0573c",
   "metadata": {},
   "source": [
    "## 1. Imports"
   ]
  },
  {
   "cell_type": "code",
   "execution_count": 1,
   "id": "85981357",
   "metadata": {},
   "outputs": [],
   "source": [
    "import numpy as np\n",
    "import pandas as pd\n",
    "import matplotlib.pyplot as plt\n",
    "import seaborn as sns\n",
    "from sklearn.datasets import fetch_openml\n",
    "from sklearn.model_selection import train_test_split\n",
    "from sklearn.tree import DecisionTreeClassifier\n",
    "from sklearn.ensemble import RandomForestClassifier\n",
    "from sklearn.metrics import accuracy_score, confusion_matrix\n",
    "sns.set()\n"
   ]
  },
  {
   "cell_type": "markdown",
   "id": "a5972eaa",
   "metadata": {},
   "source": [
    "## 2. Load & Preprocess the Adult Income Dataset\n",
    "\n",
    "- We fetch the `adult` dataset from OpenML.  \n",
    "- Target: `class` (>50K or <=50K).  \n",
    "- We one-hot encode categorical features."
   ]
  },
  {
   "cell_type": "code",
   "execution_count": 2,
   "id": "b4f14d8e",
   "metadata": {},
   "outputs": [
    {
     "name": "stdout",
     "output_type": "stream",
     "text": [
      "Raw shape: (45222, 15)\n"
     ]
    },
    {
     "data": {
      "text/html": [
       "<div>\n",
       "<style scoped>\n",
       "    .dataframe tbody tr th:only-of-type {\n",
       "        vertical-align: middle;\n",
       "    }\n",
       "\n",
       "    .dataframe tbody tr th {\n",
       "        vertical-align: top;\n",
       "    }\n",
       "\n",
       "    .dataframe thead th {\n",
       "        text-align: right;\n",
       "    }\n",
       "</style>\n",
       "<table border=\"1\" class=\"dataframe\">\n",
       "  <thead>\n",
       "    <tr style=\"text-align: right;\">\n",
       "      <th></th>\n",
       "      <th>age</th>\n",
       "      <th>workclass</th>\n",
       "      <th>fnlwgt</th>\n",
       "      <th>education</th>\n",
       "      <th>education-num</th>\n",
       "      <th>marital-status</th>\n",
       "      <th>occupation</th>\n",
       "      <th>relationship</th>\n",
       "      <th>race</th>\n",
       "      <th>sex</th>\n",
       "      <th>capital-gain</th>\n",
       "      <th>capital-loss</th>\n",
       "      <th>hours-per-week</th>\n",
       "      <th>native-country</th>\n",
       "      <th>class</th>\n",
       "    </tr>\n",
       "  </thead>\n",
       "  <tbody>\n",
       "    <tr>\n",
       "      <th>0</th>\n",
       "      <td>25</td>\n",
       "      <td>Private</td>\n",
       "      <td>226802</td>\n",
       "      <td>11th</td>\n",
       "      <td>7</td>\n",
       "      <td>Never-married</td>\n",
       "      <td>Machine-op-inspct</td>\n",
       "      <td>Own-child</td>\n",
       "      <td>Black</td>\n",
       "      <td>Male</td>\n",
       "      <td>0</td>\n",
       "      <td>0</td>\n",
       "      <td>40</td>\n",
       "      <td>United-States</td>\n",
       "      <td>&lt;=50K</td>\n",
       "    </tr>\n",
       "    <tr>\n",
       "      <th>1</th>\n",
       "      <td>38</td>\n",
       "      <td>Private</td>\n",
       "      <td>89814</td>\n",
       "      <td>HS-grad</td>\n",
       "      <td>9</td>\n",
       "      <td>Married-civ-spouse</td>\n",
       "      <td>Farming-fishing</td>\n",
       "      <td>Husband</td>\n",
       "      <td>White</td>\n",
       "      <td>Male</td>\n",
       "      <td>0</td>\n",
       "      <td>0</td>\n",
       "      <td>50</td>\n",
       "      <td>United-States</td>\n",
       "      <td>&lt;=50K</td>\n",
       "    </tr>\n",
       "    <tr>\n",
       "      <th>2</th>\n",
       "      <td>28</td>\n",
       "      <td>Local-gov</td>\n",
       "      <td>336951</td>\n",
       "      <td>Assoc-acdm</td>\n",
       "      <td>12</td>\n",
       "      <td>Married-civ-spouse</td>\n",
       "      <td>Protective-serv</td>\n",
       "      <td>Husband</td>\n",
       "      <td>White</td>\n",
       "      <td>Male</td>\n",
       "      <td>0</td>\n",
       "      <td>0</td>\n",
       "      <td>40</td>\n",
       "      <td>United-States</td>\n",
       "      <td>&gt;50K</td>\n",
       "    </tr>\n",
       "    <tr>\n",
       "      <th>3</th>\n",
       "      <td>44</td>\n",
       "      <td>Private</td>\n",
       "      <td>160323</td>\n",
       "      <td>Some-college</td>\n",
       "      <td>10</td>\n",
       "      <td>Married-civ-spouse</td>\n",
       "      <td>Machine-op-inspct</td>\n",
       "      <td>Husband</td>\n",
       "      <td>Black</td>\n",
       "      <td>Male</td>\n",
       "      <td>7688</td>\n",
       "      <td>0</td>\n",
       "      <td>40</td>\n",
       "      <td>United-States</td>\n",
       "      <td>&gt;50K</td>\n",
       "    </tr>\n",
       "    <tr>\n",
       "      <th>5</th>\n",
       "      <td>34</td>\n",
       "      <td>Private</td>\n",
       "      <td>198693</td>\n",
       "      <td>10th</td>\n",
       "      <td>6</td>\n",
       "      <td>Never-married</td>\n",
       "      <td>Other-service</td>\n",
       "      <td>Not-in-family</td>\n",
       "      <td>White</td>\n",
       "      <td>Male</td>\n",
       "      <td>0</td>\n",
       "      <td>0</td>\n",
       "      <td>30</td>\n",
       "      <td>United-States</td>\n",
       "      <td>&lt;=50K</td>\n",
       "    </tr>\n",
       "  </tbody>\n",
       "</table>\n",
       "</div>"
      ],
      "text/plain": [
       "   age  workclass  fnlwgt     education  education-num      marital-status  \\\n",
       "0   25    Private  226802          11th              7       Never-married   \n",
       "1   38    Private   89814       HS-grad              9  Married-civ-spouse   \n",
       "2   28  Local-gov  336951    Assoc-acdm             12  Married-civ-spouse   \n",
       "3   44    Private  160323  Some-college             10  Married-civ-spouse   \n",
       "5   34    Private  198693          10th              6       Never-married   \n",
       "\n",
       "          occupation   relationship   race   sex  capital-gain  capital-loss  \\\n",
       "0  Machine-op-inspct      Own-child  Black  Male             0             0   \n",
       "1    Farming-fishing        Husband  White  Male             0             0   \n",
       "2    Protective-serv        Husband  White  Male             0             0   \n",
       "3  Machine-op-inspct        Husband  Black  Male          7688             0   \n",
       "5      Other-service  Not-in-family  White  Male             0             0   \n",
       "\n",
       "   hours-per-week native-country  class  \n",
       "0              40  United-States  <=50K  \n",
       "1              50  United-States  <=50K  \n",
       "2              40  United-States   >50K  \n",
       "3              40  United-States   >50K  \n",
       "5              30  United-States  <=50K  "
      ]
     },
     "metadata": {},
     "output_type": "display_data"
    }
   ],
   "source": [
    "# fetch as pandas DataFrame\n",
    "adult = fetch_openml('adult', version=2, as_frame=True)\n",
    "df = adult.frame.copy()\n",
    "\n",
    "# drop rows with missing\n",
    "df = df.replace('?', np.nan).dropna()\n",
    "\n",
    "# separate X and y\n",
    "X = df.drop('class', axis=1)\n",
    "y = df['class'].apply(lambda s: 1 if s.strip() == '>50K' else 0)\n",
    "\n",
    "print('Raw shape:', df.shape)\n",
    "display(df.head())"
   ]
  },
  {
   "cell_type": "markdown",
   "id": "0d340680",
   "metadata": {},
   "source": [
    "### 2.1 One-hot encoding"
   ]
  },
  {
   "cell_type": "code",
   "execution_count": 3,
   "id": "31c8aaf2",
   "metadata": {},
   "outputs": [
    {
     "name": "stdout",
     "output_type": "stream",
     "text": [
      "After encoding shape: (45222, 97)\n"
     ]
    },
    {
     "data": {
      "text/html": [
       "<div>\n",
       "<style scoped>\n",
       "    .dataframe tbody tr th:only-of-type {\n",
       "        vertical-align: middle;\n",
       "    }\n",
       "\n",
       "    .dataframe tbody tr th {\n",
       "        vertical-align: top;\n",
       "    }\n",
       "\n",
       "    .dataframe thead th {\n",
       "        text-align: right;\n",
       "    }\n",
       "</style>\n",
       "<table border=\"1\" class=\"dataframe\">\n",
       "  <thead>\n",
       "    <tr style=\"text-align: right;\">\n",
       "      <th></th>\n",
       "      <th>age</th>\n",
       "      <th>fnlwgt</th>\n",
       "      <th>education-num</th>\n",
       "      <th>capital-gain</th>\n",
       "      <th>capital-loss</th>\n",
       "      <th>hours-per-week</th>\n",
       "      <th>workclass_Local-gov</th>\n",
       "      <th>workclass_Never-worked</th>\n",
       "      <th>workclass_Private</th>\n",
       "      <th>workclass_Self-emp-inc</th>\n",
       "      <th>...</th>\n",
       "      <th>native-country_Portugal</th>\n",
       "      <th>native-country_Puerto-Rico</th>\n",
       "      <th>native-country_Scotland</th>\n",
       "      <th>native-country_South</th>\n",
       "      <th>native-country_Taiwan</th>\n",
       "      <th>native-country_Thailand</th>\n",
       "      <th>native-country_Trinadad&amp;Tobago</th>\n",
       "      <th>native-country_United-States</th>\n",
       "      <th>native-country_Vietnam</th>\n",
       "      <th>native-country_Yugoslavia</th>\n",
       "    </tr>\n",
       "  </thead>\n",
       "  <tbody>\n",
       "    <tr>\n",
       "      <th>0</th>\n",
       "      <td>25</td>\n",
       "      <td>226802</td>\n",
       "      <td>7</td>\n",
       "      <td>0</td>\n",
       "      <td>0</td>\n",
       "      <td>40</td>\n",
       "      <td>False</td>\n",
       "      <td>False</td>\n",
       "      <td>True</td>\n",
       "      <td>False</td>\n",
       "      <td>...</td>\n",
       "      <td>False</td>\n",
       "      <td>False</td>\n",
       "      <td>False</td>\n",
       "      <td>False</td>\n",
       "      <td>False</td>\n",
       "      <td>False</td>\n",
       "      <td>False</td>\n",
       "      <td>True</td>\n",
       "      <td>False</td>\n",
       "      <td>False</td>\n",
       "    </tr>\n",
       "    <tr>\n",
       "      <th>1</th>\n",
       "      <td>38</td>\n",
       "      <td>89814</td>\n",
       "      <td>9</td>\n",
       "      <td>0</td>\n",
       "      <td>0</td>\n",
       "      <td>50</td>\n",
       "      <td>False</td>\n",
       "      <td>False</td>\n",
       "      <td>True</td>\n",
       "      <td>False</td>\n",
       "      <td>...</td>\n",
       "      <td>False</td>\n",
       "      <td>False</td>\n",
       "      <td>False</td>\n",
       "      <td>False</td>\n",
       "      <td>False</td>\n",
       "      <td>False</td>\n",
       "      <td>False</td>\n",
       "      <td>True</td>\n",
       "      <td>False</td>\n",
       "      <td>False</td>\n",
       "    </tr>\n",
       "    <tr>\n",
       "      <th>2</th>\n",
       "      <td>28</td>\n",
       "      <td>336951</td>\n",
       "      <td>12</td>\n",
       "      <td>0</td>\n",
       "      <td>0</td>\n",
       "      <td>40</td>\n",
       "      <td>True</td>\n",
       "      <td>False</td>\n",
       "      <td>False</td>\n",
       "      <td>False</td>\n",
       "      <td>...</td>\n",
       "      <td>False</td>\n",
       "      <td>False</td>\n",
       "      <td>False</td>\n",
       "      <td>False</td>\n",
       "      <td>False</td>\n",
       "      <td>False</td>\n",
       "      <td>False</td>\n",
       "      <td>True</td>\n",
       "      <td>False</td>\n",
       "      <td>False</td>\n",
       "    </tr>\n",
       "    <tr>\n",
       "      <th>3</th>\n",
       "      <td>44</td>\n",
       "      <td>160323</td>\n",
       "      <td>10</td>\n",
       "      <td>7688</td>\n",
       "      <td>0</td>\n",
       "      <td>40</td>\n",
       "      <td>False</td>\n",
       "      <td>False</td>\n",
       "      <td>True</td>\n",
       "      <td>False</td>\n",
       "      <td>...</td>\n",
       "      <td>False</td>\n",
       "      <td>False</td>\n",
       "      <td>False</td>\n",
       "      <td>False</td>\n",
       "      <td>False</td>\n",
       "      <td>False</td>\n",
       "      <td>False</td>\n",
       "      <td>True</td>\n",
       "      <td>False</td>\n",
       "      <td>False</td>\n",
       "    </tr>\n",
       "    <tr>\n",
       "      <th>5</th>\n",
       "      <td>34</td>\n",
       "      <td>198693</td>\n",
       "      <td>6</td>\n",
       "      <td>0</td>\n",
       "      <td>0</td>\n",
       "      <td>30</td>\n",
       "      <td>False</td>\n",
       "      <td>False</td>\n",
       "      <td>True</td>\n",
       "      <td>False</td>\n",
       "      <td>...</td>\n",
       "      <td>False</td>\n",
       "      <td>False</td>\n",
       "      <td>False</td>\n",
       "      <td>False</td>\n",
       "      <td>False</td>\n",
       "      <td>False</td>\n",
       "      <td>False</td>\n",
       "      <td>True</td>\n",
       "      <td>False</td>\n",
       "      <td>False</td>\n",
       "    </tr>\n",
       "  </tbody>\n",
       "</table>\n",
       "<p>5 rows × 97 columns</p>\n",
       "</div>"
      ],
      "text/plain": [
       "   age  fnlwgt  education-num  capital-gain  capital-loss  hours-per-week  \\\n",
       "0   25  226802              7             0             0              40   \n",
       "1   38   89814              9             0             0              50   \n",
       "2   28  336951             12             0             0              40   \n",
       "3   44  160323             10          7688             0              40   \n",
       "5   34  198693              6             0             0              30   \n",
       "\n",
       "   workclass_Local-gov  workclass_Never-worked  workclass_Private  \\\n",
       "0                False                   False               True   \n",
       "1                False                   False               True   \n",
       "2                 True                   False              False   \n",
       "3                False                   False               True   \n",
       "5                False                   False               True   \n",
       "\n",
       "   workclass_Self-emp-inc  ...  native-country_Portugal  \\\n",
       "0                   False  ...                    False   \n",
       "1                   False  ...                    False   \n",
       "2                   False  ...                    False   \n",
       "3                   False  ...                    False   \n",
       "5                   False  ...                    False   \n",
       "\n",
       "   native-country_Puerto-Rico  native-country_Scotland  native-country_South  \\\n",
       "0                       False                    False                 False   \n",
       "1                       False                    False                 False   \n",
       "2                       False                    False                 False   \n",
       "3                       False                    False                 False   \n",
       "5                       False                    False                 False   \n",
       "\n",
       "   native-country_Taiwan  native-country_Thailand  \\\n",
       "0                  False                    False   \n",
       "1                  False                    False   \n",
       "2                  False                    False   \n",
       "3                  False                    False   \n",
       "5                  False                    False   \n",
       "\n",
       "   native-country_Trinadad&Tobago  native-country_United-States  \\\n",
       "0                           False                          True   \n",
       "1                           False                          True   \n",
       "2                           False                          True   \n",
       "3                           False                          True   \n",
       "5                           False                          True   \n",
       "\n",
       "   native-country_Vietnam  native-country_Yugoslavia  \n",
       "0                   False                      False  \n",
       "1                   False                      False  \n",
       "2                   False                      False  \n",
       "3                   False                      False  \n",
       "5                   False                      False  \n",
       "\n",
       "[5 rows x 97 columns]"
      ]
     },
     "execution_count": 3,
     "metadata": {},
     "output_type": "execute_result"
    }
   ],
   "source": [
    "X_enc = pd.get_dummies(X, drop_first=True)\n",
    "print('After encoding shape:', X_enc.shape)\n",
    "X_enc.head()"
   ]
  },
  {
   "cell_type": "markdown",
   "id": "d771ed78",
   "metadata": {},
   "source": [
    "### 2.2 Train/Test split"
   ]
  },
  {
   "cell_type": "code",
   "execution_count": 4,
   "id": "2e56865f",
   "metadata": {},
   "outputs": [
    {
     "name": "stdout",
     "output_type": "stream",
     "text": [
      "Train size: 36177 Test size: 9045\n"
     ]
    }
   ],
   "source": [
    "X_train, X_test, y_train, y_test = train_test_split(\n",
    "    X_enc, y, test_size=0.2, random_state=42, stratify=y)\n",
    "print('Train size:', X_train.shape[0], 'Test size:', X_test.shape[0])"
   ]
  },
  {
   "cell_type": "markdown",
   "id": "69635d85",
   "metadata": {},
   "source": [
    "## 3. Single Decision Tree Baseline"
   ]
  },
  {
   "cell_type": "code",
   "execution_count": 5,
   "id": "fbe1d774",
   "metadata": {},
   "outputs": [
    {
     "name": "stdout",
     "output_type": "stream",
     "text": [
      "Decision Tree Test Accuracy: 0.808\n"
     ]
    },
    {
     "data": {
      "image/png": "[encoded data removed]",
      "text/plain": [
       "<Figure size 500x400 with 2 Axes>"
      ]
     },
     "metadata": {},
     "output_type": "display_data"
    }
   ],
   "source": [
    "dt = DecisionTreeClassifier(random_state=42)\n",
    "dt.fit(X_train, y_train)\n",
    "\n",
    "y_pred_dt = dt.predict(X_test)\n",
    "acc_dt = accuracy_score(y_test, y_pred_dt)\n",
    "print(f\"Decision Tree Test Accuracy: {acc_dt:.3f}\")\n",
    "\n",
    "# Confusion matrix\n",
    "cm = confusion_matrix(y_test, y_pred_dt)\n",
    "plt.figure(figsize=(5,4))\n",
    "sns.heatmap(cm, annot=True, fmt='d', cmap='Blues')\n",
    "plt.xlabel('Predicted')\n",
    "plt.ylabel('True')\n",
    "plt.title('DT Confusion Matrix')\n",
    "plt.show()"
   ]
  },
  {
   "cell_type": "markdown",
   "id": "62c289c6",
   "metadata": {},
   "source": [
    "## 4. Random Forest with OOB Estimate"
   ]
  },
  {
   "cell_type": "code",
   "execution_count": 6,
   "id": "9a08d6d5",
   "metadata": {},
   "outputs": [
    {
     "name": "stdout",
     "output_type": "stream",
     "text": [
      "RF Train Acc: 1.000\n",
      "RF Test Acc:  0.846\n",
      "RF OOB  Acc:  0.850\n"
     ]
    }
   ],
   "source": [
    "rf = RandomForestClassifier(\n",
    "    n_estimators=100,\n",
    "    max_features='sqrt',\n",
    "    oob_score=True,\n",
    "    random_state=42,\n",
    "    n_jobs=-1\n",
    ")\n",
    "rf.fit(X_train, y_train)\n",
    "\n",
    "train_acc_rf = rf.score(X_train, y_train)\n",
    "test_acc_rf = rf.score(X_test, y_test)\n",
    "oob_acc = rf.oob_score_\n",
    "\n",
    "print(f\"RF Train Acc: {train_acc_rf:.3f}\")\n",
    "print(f\"RF Test Acc:  {test_acc_rf:.3f}\")\n",
    "print(f\"RF OOB  Acc:  {oob_acc:.3f}\")"
   ]
  },
  {
   "cell_type": "markdown",
   "id": "638dcd9e",
   "metadata": {},
   "source": [
    "### 4.1 OOB Error vs Number of Trees"
   ]
  },
  {
   "cell_type": "code",
   "execution_count": 7,
   "id": "95d23b9b",
   "metadata": {},
   "outputs": [
    {
     "name": "stderr",
     "output_type": "stream",
     "text": [
      "/home/z3538568/miniconda3/envs/python/lib/python3.10/site-packages/sklearn/ensemble/_forest.py:612: UserWarning: Some inputs do not have OOB scores. This probably means too few trees were used to compute any reliable OOB estimates.\n",
      "  warn(\n",
      "/home/z3538568/miniconda3/envs/python/lib/python3.10/site-packages/sklearn/ensemble/_forest.py:612: UserWarning: Some inputs do not have OOB scores. This probably means too few trees were used to compute any reliable OOB estimates.\n",
      "  warn(\n"
     ]
    },
    {
     "data": {
      "image/png": "[encoded data removed]",
      "text/plain": [
       "<Figure size 600x400 with 1 Axes>"
      ]
     },
     "metadata": {},
     "output_type": "display_data"
    }
   ],
   "source": [
    "oob_errors = []\n",
    "n_list = [10, 20, 50, 100, 200]\n",
    "for n in n_list:\n",
    "    rf_i = RandomForestClassifier(\n",
    "        n_estimators=n,\n",
    "        max_features='sqrt',\n",
    "        oob_score=True,\n",
    "        random_state=42,\n",
    "        n_jobs=-1\n",
    "    )\n",
    "    rf_i.fit(X_train, y_train)\n",
    "    oob_errors.append(1 - rf_i.oob_score_)\n",
    "\n",
    "plt.figure(figsize=(6,4))\n",
    "plt.plot(n_list, oob_errors, marker='o')\n",
    "plt.xlabel('Number of Trees')\n",
    "plt.ylabel('OOB Error')\n",
    "plt.title('OOB Error vs n_estimators')\n",
    "plt.show()"
   ]
  },
  {
   "cell_type": "markdown",
   "id": "e7b2d66c",
   "metadata": {},
   "source": [
    "## 5. Feature Importances"
   ]
  },
  {
   "cell_type": "code",
   "execution_count": 8,
   "id": "6204ae17",
   "metadata": {},
   "outputs": [
    {
     "data": {
      "image/png": "[encoded data removed]",
      "text/plain": [
       "<Figure size 800x500 with 1 Axes>"
      ]
     },
     "metadata": {},
     "output_type": "display_data"
    }
   ],
   "source": [
    "# get importances from the 100-tree forest\n",
    "importances = rf.feature_importances_\n",
    "feat_names = X_enc.columns\n",
    "indices = np.argsort(importances)[::-1][:10]\n",
    "\n",
    "plt.figure(figsize=(8,5))\n",
    "sns.barplot(x=importances[indices], y=feat_names[indices])\n",
    "plt.title('Top 10 Feature Importances (Random Forest)')\n",
    "plt.xlabel('Importance')\n",
    "plt.ylabel('Feature')\n",
    "plt.show()"
   ]
  },
  {
   "cell_type": "markdown",
   "id": "462a2147",
   "metadata": {},
   "source": [
    "# Key Takeaways\n",
    "\n",
    "- A single decision tree achieved ~80–82% test accuracy.  \n",
    "- Random forest boosted accuracy and provided an **OOB** estimate close to test accuracy.  \n",
    "- OOB error decreases as we add more trees (diminishing returns).  \n",
    "- Feature importances reveal the top predictors of >50K income.  \n",
    "\n",
    "Next, you can experiment with changing `max_features`, `max_depth`, or implementing a manual bagging ensemble."
   ]
  },
  {
   "cell_type": "code",
   "execution_count": null,
   "id": "e7675756-c63c-4b5d-a4d4-143c2279f43b",
   "metadata": {},
   "outputs": [],
   "source": []
  }
 ],
 "metadata": {
  "kernelspec": {
   "display_name": "Python 3 (ipykernel)",
   "language": "python",
   "name": "python3"
  },
  "language_info": {
   "codemirror_mode": {
    "name": "ipython",
    "version": 3
   },
   "file_extension": ".py",
   "mimetype": "text/x-python",
   "name": "python",
   "nbconvert_exporter": "python",
   "pygments_lexer": "ipython3",
   "version": "3.10.16"
  }
 },
 "nbformat": 4,
 "nbformat_minor": 5
}
